{
 "cells": [
  {
   "cell_type": "code",
   "execution_count": 6,
   "id": "8588a993-a4e0-4caf-aafa-9e171efc37c0",
   "metadata": {},
   "outputs": [
    {
     "name": "stdout",
     "output_type": "stream",
     "text": [
      "0 2 4 6 8 10 12 14 16 18 20 "
     ]
    }
   ],
   "source": [
    "even = [0,2,4,6,8,10,12,14,16,18,20]\n",
    "for n in even:\n",
    "    print(n, end = \" \")"
   ]
  },
  {
   "cell_type": "code",
   "execution_count": 12,
   "id": "d977de4c-384f-4712-92f9-b61340137bf1",
   "metadata": {},
   "outputs": [
    {
     "name": "stdout",
     "output_type": "stream",
     "text": [
      "1 2 3 4 5 6 7 8 9 "
     ]
    }
   ],
   "source": [
    "x = [1,2,3,4,5,6,7,8,9]\n",
    "for n in x:\n",
    "    print(n, end = \" \")\n",
    " "
   ]
  },
  {
   "cell_type": "code",
   "execution_count": 20,
   "id": "9025c317-fa15-4d2b-96d5-92d227872e17",
   "metadata": {},
   "outputs": [
    {
     "name": "stdout",
     "output_type": "stream",
     "text": [
      "0 2 4 6 8 10 12 14 16 18 20 "
     ]
    }
   ],
   "source": [
    "x = 0\n",
    "while x <= 20:\n",
    "    print(x, end = \" \")\n",
    "    x = x + 2"
   ]
  },
  {
   "cell_type": "code",
   "execution_count": 24,
   "id": "24039f9b-3809-4e26-9f72-077dc183276f",
   "metadata": {},
   "outputs": [
    {
     "name": "stdout",
     "output_type": "stream",
     "text": [
      "1 3 5 7 9 11 13 15 17 19 21 23 25 27 29 "
     ]
    }
   ],
   "source": [
    "y = 1\n",
    "while y <= 30:\n",
    "    print(y, end = \" \")\n",
    "    y = y + 2"
   ]
  },
  {
   "cell_type": "code",
   "execution_count": 26,
   "id": "ee57b0e5-9be2-43c2-85b1-6d0699dc175a",
   "metadata": {},
   "outputs": [
    {
     "name": "stdout",
     "output_type": "stream",
     "text": [
      "31\n"
     ]
    }
   ],
   "source": [
    "print(y)"
   ]
  },
  {
   "cell_type": "code",
   "execution_count": 28,
   "id": "6a61f44c-2f3f-4377-8767-85dc23868f1c",
   "metadata": {},
   "outputs": [
    {
     "data": {
      "text/plain": [
       "range(0, 10)"
      ]
     },
     "execution_count": 28,
     "metadata": {},
     "output_type": "execute_result"
    }
   ],
   "source": [
    "range(10)"
   ]
  },
  {
   "cell_type": "code",
   "execution_count": 30,
   "id": "b27095f6-94a8-4580-9977-6c5862004e7c",
   "metadata": {},
   "outputs": [
    {
     "data": {
      "text/plain": [
       "range(0, 10)"
      ]
     },
     "execution_count": 30,
     "metadata": {},
     "output_type": "execute_result"
    }
   ],
   "source": [
    "range(0,10,1)"
   ]
  },
  {
   "cell_type": "code",
   "execution_count": 32,
   "id": "9ec28ca6-87cb-4080-ac15-a35d74464daa",
   "metadata": {},
   "outputs": [
    {
     "data": {
      "text/plain": [
       "[0, 1, 2, 3, 4, 5, 6, 7, 8, 9]"
      ]
     },
     "execution_count": 32,
     "metadata": {},
     "output_type": "execute_result"
    }
   ],
   "source": [
    "list(range(10))"
   ]
  },
  {
   "cell_type": "code",
   "execution_count": 34,
   "id": "71ac0b28-8be5-436c-ab17-e2ce9d65f8e1",
   "metadata": {},
   "outputs": [
    {
     "data": {
      "text/plain": [
       "range(3, 7)"
      ]
     },
     "execution_count": 34,
     "metadata": {},
     "output_type": "execute_result"
    }
   ],
   "source": [
    "range(3,7)"
   ]
  },
  {
   "cell_type": "code",
   "execution_count": 36,
   "id": "3ff2f467-bbc9-4332-b9f0-35525a95f357",
   "metadata": {},
   "outputs": [
    {
     "data": {
      "text/plain": [
       "[3, 4, 5, 6]"
      ]
     },
     "execution_count": 36,
     "metadata": {},
     "output_type": "execute_result"
    }
   ],
   "source": [
    "list(range(3,7))"
   ]
  },
  {
   "cell_type": "code",
   "execution_count": 38,
   "id": "9a4f7d31-ca41-48a7-9282-8718c92624f3",
   "metadata": {},
   "outputs": [
    {
     "data": {
      "text/plain": [
       "range(1, 20, 2)"
      ]
     },
     "execution_count": 38,
     "metadata": {},
     "output_type": "execute_result"
    }
   ],
   "source": [
    "range(1,20,2)"
   ]
  },
  {
   "cell_type": "code",
   "execution_count": 40,
   "id": "ec73687b-57e6-4a0b-8b32-2acc0366b09d",
   "metadata": {},
   "outputs": [
    {
     "data": {
      "text/plain": [
       "[1, 3, 5, 7, 9, 11, 13, 15, 17, 19]"
      ]
     },
     "execution_count": 40,
     "metadata": {},
     "output_type": "execute_result"
    }
   ],
   "source": [
    "list(range(1,20,2))"
   ]
  },
  {
   "cell_type": "code",
   "execution_count": 42,
   "id": "8d3b8a79-157b-48a0-8e0b-109934f8cddf",
   "metadata": {},
   "outputs": [],
   "source": [
    "x = range(1,20)"
   ]
  },
  {
   "cell_type": "code",
   "execution_count": 44,
   "id": "838c9144-bc67-418c-bbd6-cec9991923f0",
   "metadata": {},
   "outputs": [
    {
     "data": {
      "text/plain": [
       "range(1, 20)"
      ]
     },
     "execution_count": 44,
     "metadata": {},
     "output_type": "execute_result"
    }
   ],
   "source": [
    "x\n"
   ]
  },
  {
   "cell_type": "code",
   "execution_count": 46,
   "id": "b35b9312-427f-4eb7-8ddf-e77533973e0b",
   "metadata": {},
   "outputs": [],
   "source": [
    "x = [range(1,20)]"
   ]
  },
  {
   "cell_type": "code",
   "execution_count": 48,
   "id": "5b6acc72-8d62-4605-870d-20678ad07435",
   "metadata": {},
   "outputs": [
    {
     "data": {
      "text/plain": [
       "[range(1, 20)]"
      ]
     },
     "execution_count": 48,
     "metadata": {},
     "output_type": "execute_result"
    }
   ],
   "source": [
    "x"
   ]
  },
  {
   "cell_type": "code",
   "execution_count": 50,
   "id": "704d07fb-2a29-4d01-9ad5-f50170583d55",
   "metadata": {},
   "outputs": [
    {
     "data": {
      "text/plain": [
       "[1, 2, 3, 4, 5, 6, 7, 8, 9, 10, 11, 12, 13, 14, 15, 16, 17, 18, 19]"
      ]
     },
     "execution_count": 50,
     "metadata": {},
     "output_type": "execute_result"
    }
   ],
   "source": [
    "list(range(1,20))"
   ]
  },
  {
   "cell_type": "code",
   "execution_count": 54,
   "id": "6ec06d58-739f-42cc-a05c-1b94749643d0",
   "metadata": {},
   "outputs": [
    {
     "data": {
      "text/plain": [
       "[1,\n",
       " 2,\n",
       " 3,\n",
       " 4,\n",
       " 5,\n",
       " 6,\n",
       " 7,\n",
       " 8,\n",
       " 9,\n",
       " 10,\n",
       " 11,\n",
       " 12,\n",
       " 13,\n",
       " 14,\n",
       " 15,\n",
       " 16,\n",
       " 17,\n",
       " 18,\n",
       " 19,\n",
       " 20,\n",
       " 21,\n",
       " 22,\n",
       " 23,\n",
       " 24,\n",
       " 25,\n",
       " 26,\n",
       " 27,\n",
       " 28,\n",
       " 29,\n",
       " 30,\n",
       " 31,\n",
       " 32,\n",
       " 33,\n",
       " 34,\n",
       " 35,\n",
       " 36,\n",
       " 37,\n",
       " 38,\n",
       " 39,\n",
       " 40,\n",
       " 41,\n",
       " 42,\n",
       " 43,\n",
       " 44,\n",
       " 45,\n",
       " 46,\n",
       " 47,\n",
       " 48,\n",
       " 49]"
      ]
     },
     "execution_count": 54,
     "metadata": {},
     "output_type": "execute_result"
    }
   ],
   "source": [
    "list(range(1,50))"
   ]
  },
  {
   "cell_type": "code",
   "execution_count": 56,
   "id": "f389d85c-a3ed-44c3-87eb-2d9dc58002c6",
   "metadata": {},
   "outputs": [
    {
     "data": {
      "text/plain": [
       "[0, 2, 4, 6, 8, 10, 12, 14, 16, 18, 20, 22, 24, 26, 28, 30]"
      ]
     },
     "execution_count": 56,
     "metadata": {},
     "output_type": "execute_result"
    }
   ],
   "source": [
    "list(range(0,31,2))"
   ]
  },
  {
   "cell_type": "code",
   "execution_count": 58,
   "id": "04b2df12-6679-4863-9787-c3efe4bf3bab",
   "metadata": {},
   "outputs": [
    {
     "name": "stdout",
     "output_type": "stream",
     "text": [
      "0\n",
      "1\n",
      "2\n",
      "3\n",
      "4\n",
      "5\n",
      "6\n",
      "7\n",
      "8\n",
      "9\n"
     ]
    }
   ],
   "source": [
    "for n in range(10):\n",
    "    print(n)"
   ]
  },
  {
   "cell_type": "code",
   "execution_count": 66,
   "id": "0aca7485-af14-4000-801b-83b307ea82ed",
   "metadata": {},
   "outputs": [
    {
     "name": "stdout",
     "output_type": "stream",
     "text": [
      "0 odd 2 odd 4 odd 6 odd 8 odd 10 odd 12 odd 14 odd 16 odd 18 odd "
     ]
    }
   ],
   "source": [
    "for x in range(20):\n",
    "    if x % 2 == 0:\n",
    "        print(x,end=\" \")\n",
    "    else:\n",
    "        print(\"odd\", end = \" \")"
   ]
  },
  {
   "cell_type": "code",
   "execution_count": 68,
   "id": "3b43847d-bccf-4330-b81c-11dca4a7325c",
   "metadata": {},
   "outputs": [
    {
     "name": "stdout",
     "output_type": "stream",
     "text": [
      "1 2 4 8 16 32 64 128 256 512 "
     ]
    }
   ],
   "source": [
    "for n in range(10):\n",
    "    print(2**n, end = \" \")"
   ]
  },
  {
   "cell_type": "code",
   "execution_count": 72,
   "id": "2b027559-33f7-4337-9c1a-d7b235059899",
   "metadata": {},
   "outputs": [
    {
     "name": "stdout",
     "output_type": "stream",
     "text": [
      "0 2 3 "
     ]
    }
   ],
   "source": [
    "x=[0,2,3]\n",
    "for item in x:\n",
    "    print(item, end = \" \")"
   ]
  },
  {
   "cell_type": "code",
   "execution_count": 74,
   "id": "533dc7f1-5d2e-45f9-acc2-a00b5c77b61a",
   "metadata": {},
   "outputs": [
    {
     "name": "stdout",
     "output_type": "stream",
     "text": [
      "0\n",
      "1\n",
      "2\n"
     ]
    }
   ],
   "source": [
    "for item in range(len(x)):\n",
    "    print(item)"
   ]
  },
  {
   "cell_type": "code",
   "execution_count": 80,
   "id": "da933d74-17b7-43f4-9cc0-252c96f7c69a",
   "metadata": {},
   "outputs": [
    {
     "name": "stdout",
     "output_type": "stream",
     "text": [
      "0 2 4 6 8 10 "
     ]
    }
   ],
   "source": [
    "for n in range(0,11,2):\n",
    "    print(n, end = \" \")"
   ]
  },
  {
   "cell_type": "code",
   "execution_count": 86,
   "id": "570182aa-1f21-488f-afe7-a4bd47acaf48",
   "metadata": {},
   "outputs": [
    {
     "name": "stdout",
     "output_type": "stream",
     "text": [
      "even 1 even 3 even 5 even 7 even 9 even 11 even 13 even 15 even 17 even 19 even 21 even 23 even 25 even 27 even 29 even "
     ]
    }
   ],
   "source": [
    "for n in range(0,31):\n",
    "    if n % 2 != 0:\n",
    "        print(n, end = \" \")\n",
    "    else:\n",
    "        print(\"even\", end = \" \")"
   ]
  },
  {
   "cell_type": "code",
   "execution_count": 92,
   "id": "f33cc89c-a369-4ccc-a406-8f1a9ddffd62",
   "metadata": {},
   "outputs": [
    {
     "name": "stdout",
     "output_type": "stream",
     "text": [
      "10 20 30 40 50 60 70 80 90 100 "
     ]
    }
   ],
   "source": [
    "x = [1,2,3,4,5,6,7,8,9,10]\n",
    "for n in x:\n",
    "    print(n*10, end = \" \")"
   ]
  },
  {
   "cell_type": "code",
   "execution_count": 96,
   "id": "6ae0f7c5-58a5-4206-a4b5-04961851e4d5",
   "metadata": {},
   "outputs": [
    {
     "name": "stdout",
     "output_type": "stream",
     "text": [
      "10 20 30 40 50 60 70 80 90 100 "
     ]
    }
   ],
   "source": [
    "for n in range(1,11):\n",
    "    print(n*10, end = \" \" )"
   ]
  },
  {
   "cell_type": "code",
   "execution_count": 103,
   "id": "263b6d45-c6dd-4d5e-8dda-1384ef18ef9c",
   "metadata": {},
   "outputs": [],
   "source": [
    "def count(numbers):\n",
    "    total = 0\n",
    "    for x in numbers:\n",
    "        if x<20:\n",
    "            total += 1\n",
    "    return total"
   ]
  },
  {
   "cell_type": "code",
   "execution_count": 105,
   "id": "782c43fa-d903-4881-8a79-22ffd67cf94c",
   "metadata": {},
   "outputs": [
    {
     "data": {
      "text/plain": [
       "4"
      ]
     },
     "execution_count": 105,
     "metadata": {},
     "output_type": "execute_result"
    }
   ],
   "source": [
    "list_1 = [1,3,7,15,23,43,56,98]\n",
    "count(list_1)"
   ]
  },
  {
   "cell_type": "code",
   "execution_count": 111,
   "id": "5d92aef3-7452-44ac-bb85-9e343b9c94c3",
   "metadata": {},
   "outputs": [
    {
     "data": {
      "text/plain": [
       "2"
      ]
     },
     "execution_count": 111,
     "metadata": {},
     "output_type": "execute_result"
    }
   ],
   "source": [
    "nums=[1,35,12,24,31,51,70,100]\n",
    "def count(x):\n",
    "    result = 0\n",
    "    for n in x:\n",
    "        if n < 20:\n",
    "            result += 1\n",
    "    return result\n",
    "\n",
    "count(nums)"
   ]
  },
  {
   "cell_type": "code",
   "execution_count": 133,
   "id": "f1875c45-0054-4df4-a49a-18c9523e0e8a",
   "metadata": {},
   "outputs": [
    {
     "name": "stdout",
     "output_type": "stream",
     "text": [
      "total spent: 74\n",
      "amount spent on goods over $5: 5\n",
      "amount spent on goods under $5: 6\n"
     ]
    }
   ],
   "source": [
    "prices = {\"box_of_spaghetti\": 4,\n",
    "          \"lasagna\": 5,\n",
    "          \"hamburger\": 2}\n",
    "quantity = {\"box_of_spaghetti\": 6,\n",
    "          \"lasagna\": 10,\n",
    "          \"hamburger\": 0}\n",
    "\n",
    "money_spent  = 0\n",
    "goods_over_5 = 0\n",
    "goods_under_5 = 0\n",
    "for i in prices:\n",
    "    money_spent = money_spent + (prices[i] * quantity[i])\n",
    "    if prices[i] >= 5:\n",
    "        goods_over_5 = goods_over_5 + prices[i]\n",
    "    if prices[i] < 5:\n",
    "        goods_under_5 = goods_under_5 + prices[i]\n",
    "\n",
    "print(\"total spent: \" + str(money_spent))\n",
    "print(\"amount spent on goods over $5: \" + str(goods_over_5))\n",
    "print(\"amount spent on goods under $5: \" + str(goods_under_5))"
   ]
  },
  {
   "cell_type": "code",
   "execution_count": 117,
   "id": "c06b0928-9034-4bf7-a129-820c050878d6",
   "metadata": {},
   "outputs": [
    {
     "data": {
      "text/plain": [
       "{'box_of_spaghetti': 4, 'lasagna': 5, 'hamburger': 2}"
      ]
     },
     "execution_count": 117,
     "metadata": {},
     "output_type": "execute_result"
    }
   ],
   "source": [
    "prices"
   ]
  },
  {
   "cell_type": "code",
   "execution_count": null,
   "id": "b18783f2-c332-4977-8ccb-f6667a53c1d4",
   "metadata": {},
   "outputs": [],
   "source": []
  }
 ],
 "metadata": {
  "kernelspec": {
   "display_name": "Python [conda env:base] *",
   "language": "python",
   "name": "conda-base-py"
  },
  "language_info": {
   "codemirror_mode": {
    "name": "ipython",
    "version": 3
   },
   "file_extension": ".py",
   "mimetype": "text/x-python",
   "name": "python",
   "nbconvert_exporter": "python",
   "pygments_lexer": "ipython3",
   "version": "3.12.7"
  }
 },
 "nbformat": 4,
 "nbformat_minor": 5
}
