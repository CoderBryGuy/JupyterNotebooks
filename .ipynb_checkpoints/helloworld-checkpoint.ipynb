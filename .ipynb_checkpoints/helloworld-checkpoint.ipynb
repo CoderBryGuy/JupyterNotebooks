{
 "cells": [
  {
   "cell_type": "code",
   "execution_count": null,
   "id": "cba87be5-42dc-41d5-8c3b-15cb33e8b3ad",
   "metadata": {},
   "outputs": [],
   "source": [
    "x=5+3"
   ]
  },
  {
   "cell_type": "code",
   "execution_count": null,
   "id": "08288d3d-543a-4edf-b243-99bf20864c7d",
   "metadata": {},
   "outputs": [],
   "source": [
    "print(x)\n"
   ]
  },
  {
   "cell_type": "code",
   "execution_count": null,
   "id": "14a1f884-0259-429c-a0f6-2d48ae80c6ac",
   "metadata": {},
   "outputs": [],
   "source": [
    "print(x-1)"
   ]
  },
  {
   "cell_type": "code",
   "execution_count": null,
   "id": "7445d4ea-ffbd-46d8-883d-9a2ab94fd98c",
   "metadata": {},
   "outputs": [],
   "source": [
    "print\n",
    "(x+1)"
   ]
  },
  {
   "cell_type": "code",
   "execution_count": null,
   "id": "a3125731-84db-44c7-9db8-7251ad8b9fa5",
   "metadata": {},
   "outputs": [],
   "source": []
  }
 ],
 "metadata": {
  "kernelspec": {
   "display_name": "Python [conda env:base] *",
   "language": "python",
   "name": "conda-base-py"
  },
  "language_info": {
   "codemirror_mode": {
    "name": "ipython",
    "version": 3
   },
   "file_extension": ".py",
   "mimetype": "text/x-python",
   "name": "python",
   "nbconvert_exporter": "python",
   "pygments_lexer": "ipython3",
   "version": "3.12.7"
  }
 },
 "nbformat": 4,
 "nbformat_minor": 5
}
