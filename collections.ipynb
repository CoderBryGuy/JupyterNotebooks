{
 "cells": [
  {
   "cell_type": "code",
   "execution_count": 8,
   "id": "14bb0fa0-ef25-4da5-95a0-17aa7da370c1",
   "metadata": {},
   "outputs": [],
   "source": [
    "participents = ['john', 'leila', 'maria', 'dwayne', 'george', 'catherine']\n",
    "par = participents[:]"
   ]
  },
  {
   "cell_type": "code",
   "execution_count": 10,
   "id": "14cf5e13-4ea8-4e65-b914-9dea4cf6cd68",
   "metadata": {},
   "outputs": [
    {
     "data": {
      "text/plain": [
       "['john', 'leila', 'maria', 'dwayne', 'george', 'catherine']"
      ]
     },
     "execution_count": 10,
     "metadata": {},
     "output_type": "execute_result"
    }
   ],
   "source": [
    "par"
   ]
  },
  {
   "cell_type": "code",
   "execution_count": 12,
   "id": "f471045b-80c0-4255-9bda-e5889edc333e",
   "metadata": {},
   "outputs": [
    {
     "data": {
      "text/plain": [
       "['leila', 'maria']"
      ]
     },
     "execution_count": 12,
     "metadata": {},
     "output_type": "execute_result"
    }
   ],
   "source": [
    "par[1:3]"
   ]
  },
  {
   "cell_type": "code",
   "execution_count": 16,
   "id": "7b88b297-619a-4192-b490-329e6aaad7f7",
   "metadata": {},
   "outputs": [
    {
     "data": {
      "text/plain": [
       "['john', 'leila']"
      ]
     },
     "execution_count": 16,
     "metadata": {},
     "output_type": "execute_result"
    }
   ],
   "source": [
    "par[:2]"
   ]
  },
  {
   "cell_type": "code",
   "execution_count": 14,
   "id": "3f5d0879-4634-49c2-b14c-ddabc3037a9c",
   "metadata": {},
   "outputs": [
    {
     "data": {
      "text/plain": [
       "['george', 'catherine']"
      ]
     },
     "execution_count": 14,
     "metadata": {},
     "output_type": "execute_result"
    }
   ],
   "source": [
    "par[4:]"
   ]
  },
  {
   "cell_type": "code",
   "execution_count": 18,
   "id": "a773d2f2-9321-4cfd-9062-17202ba37a32",
   "metadata": {},
   "outputs": [
    {
     "data": {
      "text/plain": [
       "'george'"
      ]
     },
     "execution_count": 18,
     "metadata": {},
     "output_type": "execute_result"
    }
   ],
   "source": [
    "par[-2]"
   ]
  },
  {
   "cell_type": "code",
   "execution_count": 20,
   "id": "d8c133a2-0bac-45d8-931d-672528230f51",
   "metadata": {},
   "outputs": [
    {
     "data": {
      "text/plain": [
       "2"
      ]
     },
     "execution_count": 20,
     "metadata": {},
     "output_type": "execute_result"
    }
   ],
   "source": [
    "par.index('maria')"
   ]
  },
  {
   "cell_type": "code",
   "execution_count": 26,
   "id": "c8b79146-eec2-4f82-ac8a-db4e87f5397c",
   "metadata": {},
   "outputs": [
    {
     "data": {
      "text/plain": [
       "['joshua', 'brittany']"
      ]
     },
     "execution_count": 26,
     "metadata": {},
     "output_type": "execute_result"
    }
   ],
   "source": [
    "newcomers=['joshua', 'brittany']\n",
    "newcomers"
   ]
  },
  {
   "cell_type": "code",
   "execution_count": 28,
   "id": "72d03980-7446-4a8c-a4d7-fb66e9ec3764",
   "metadata": {},
   "outputs": [
    {
     "data": {
      "text/plain": [
       "[['john', 'leila', 'maria', 'dwayne', 'george', 'catherine'],\n",
       " ['joshua', 'brittany']]"
      ]
     },
     "execution_count": 28,
     "metadata": {},
     "output_type": "execute_result"
    }
   ],
   "source": [
    "big_list=[par, newcomers]\n",
    "big_list"
   ]
  },
  {
   "cell_type": "code",
   "execution_count": 32,
   "id": "07297469-20f3-4ebc-8263-80d6a067e84b",
   "metadata": {},
   "outputs": [
    {
     "data": {
      "text/plain": [
       "['maria', 'leila', 'john', 'george', 'dwayne', 'catherine']"
      ]
     },
     "execution_count": 32,
     "metadata": {},
     "output_type": "execute_result"
    }
   ],
   "source": [
    "par.sort(reverse=True)\n",
    "par"
   ]
  },
  {
   "cell_type": "code",
   "execution_count": 34,
   "id": "878a0489-d657-4f7a-8d4e-d401cef37db9",
   "metadata": {},
   "outputs": [
    {
     "data": {
      "text/plain": [
       "[1, 2, 3, 4, 5]"
      ]
     },
     "execution_count": 34,
     "metadata": {},
     "output_type": "execute_result"
    }
   ],
   "source": [
    "numbers = [1,2,3,4,5]\n",
    "numbers.sort()\n",
    "numbers"
   ]
  },
  {
   "cell_type": "code",
   "execution_count": 38,
   "id": "06e32745-30ba-4ffc-97d3-019535f1d0fd",
   "metadata": {},
   "outputs": [
    {
     "data": {
      "text/plain": [
       "[5, 4, 3, 2, 1]"
      ]
     },
     "execution_count": 38,
     "metadata": {},
     "output_type": "execute_result"
    }
   ],
   "source": [
    "numbers.sort(reverse=True)\n",
    "numbers"
   ]
  },
  {
   "cell_type": "code",
   "execution_count": 44,
   "id": "614a0ef9-125d-4f9f-9bd5-14b40f64ee05",
   "metadata": {},
   "outputs": [
    {
     "data": {
      "text/plain": [
       "[5, 4, 3, 2, 1, 100, 155]"
      ]
     },
     "execution_count": 44,
     "metadata": {},
     "output_type": "execute_result"
    }
   ],
   "source": [
    "numbers.extend([100, 155])\n",
    "numbers"
   ]
  },
  {
   "cell_type": "code",
   "execution_count": 46,
   "id": "4396f6cc-56ae-4239-ac54-5d80ae01784e",
   "metadata": {},
   "outputs": [
    {
     "data": {
      "text/plain": [
       "100"
      ]
     },
     "execution_count": 46,
     "metadata": {},
     "output_type": "execute_result"
    }
   ],
   "source": [
    "numbers[-2]"
   ]
  },
  {
   "cell_type": "code",
   "execution_count": 50,
   "id": "01ce460b-302e-4133-ba53-eeef35020675",
   "metadata": {},
   "outputs": [
    {
     "data": {
      "text/plain": [
       "[100, 155]"
      ]
     },
     "execution_count": 50,
     "metadata": {},
     "output_type": "execute_result"
    }
   ],
   "source": [
    "numbers[-2:]"
   ]
  },
  {
   "cell_type": "code",
   "execution_count": 52,
   "id": "6d94ba75-8b2d-4962-9206-bd1860683193",
   "metadata": {},
   "outputs": [
    {
     "data": {
      "text/plain": [
       "[5, 4, 3, 2, 1]"
      ]
     },
     "execution_count": 52,
     "metadata": {},
     "output_type": "execute_result"
    }
   ],
   "source": [
    "numbers[:-2]"
   ]
  },
  {
   "cell_type": "code",
   "execution_count": 60,
   "id": "8f2a6903-81af-45f5-a8fe-2b48ce04dac1",
   "metadata": {},
   "outputs": [
    {
     "data": {
      "text/plain": [
       "[100, 155]"
      ]
     },
     "execution_count": 60,
     "metadata": {},
     "output_type": "execute_result"
    }
   ],
   "source": [
    "numbers[5:7]"
   ]
  },
  {
   "cell_type": "code",
   "execution_count": 64,
   "id": "1e19118b-c16f-4549-bc4f-93132f0b2bd4",
   "metadata": {},
   "outputs": [
    {
     "data": {
      "text/plain": [
       "[5, 140, 140, 4, 3, 2, 1, 100, 155]"
      ]
     },
     "execution_count": 64,
     "metadata": {},
     "output_type": "execute_result"
    }
   ],
   "source": [
    "numbers.insert(1, 140)\n",
    "num = numbers[:]\n",
    "num"
   ]
  },
  {
   "cell_type": "code",
   "execution_count": 66,
   "id": "21699c8a-797b-4711-8528-6688187d139b",
   "metadata": {},
   "outputs": [
    {
     "data": {
      "text/plain": [
       "[3, 2, 1, 100, 155]"
      ]
     },
     "execution_count": 66,
     "metadata": {},
     "output_type": "execute_result"
    }
   ],
   "source": [
    "num[4:]"
   ]
  },
  {
   "cell_type": "code",
   "execution_count": 68,
   "id": "d9223c09-00be-4ff2-b8d5-752fae6722d3",
   "metadata": {},
   "outputs": [
    {
     "data": {
      "text/plain": [
       "[5, 140, 140, 4]"
      ]
     },
     "execution_count": 68,
     "metadata": {},
     "output_type": "execute_result"
    }
   ],
   "source": [
    "num[:4]"
   ]
  },
  {
   "cell_type": "code",
   "execution_count": 70,
   "id": "b09b1e17-be7c-4b15-861d-4fcdbf7c291f",
   "metadata": {},
   "outputs": [
    {
     "data": {
      "text/plain": [
       "[4, 3, 2, 1, 100, 155]"
      ]
     },
     "execution_count": 70,
     "metadata": {},
     "output_type": "execute_result"
    }
   ],
   "source": [
    "num[3:]"
   ]
  },
  {
   "cell_type": "code",
   "execution_count": 74,
   "id": "a7dd87de-db3b-4925-b725-b20addb9643b",
   "metadata": {},
   "outputs": [
    {
     "data": {
      "text/plain": [
       "[3, 2, 1, 100, 155]"
      ]
     },
     "execution_count": 74,
     "metadata": {},
     "output_type": "execute_result"
    }
   ],
   "source": [
    "num[4:]"
   ]
  },
  {
   "cell_type": "code",
   "execution_count": 78,
   "id": "e695ed34-b658-4102-96c0-e14d45ac2f87",
   "metadata": {},
   "outputs": [
    {
     "data": {
      "text/plain": [
       "[2, 1, 100, 155]"
      ]
     },
     "execution_count": 78,
     "metadata": {},
     "output_type": "execute_result"
    }
   ],
   "source": [
    "num[-4:]"
   ]
  },
  {
   "cell_type": "code",
   "execution_count": 84,
   "id": "c2d9bca7-2e84-4ca2-a9a3-3bf7a2a6ca80",
   "metadata": {},
   "outputs": [
    {
     "data": {
      "text/plain": [
       "8"
      ]
     },
     "execution_count": 84,
     "metadata": {},
     "output_type": "execute_result"
    }
   ],
   "source": [
    "num.index(155)"
   ]
  },
  {
   "cell_type": "code",
   "execution_count": 86,
   "id": "b4783936-db21-4cfd-b311-a0f104f31e41",
   "metadata": {},
   "outputs": [],
   "source": [
    "two_numbers=[1,2]"
   ]
  },
  {
   "cell_type": "code",
   "execution_count": 92,
   "id": "68d234fe-35f7-426e-bb14-b39d7938839c",
   "metadata": {},
   "outputs": [
    {
     "data": {
      "text/plain": [
       "[[1, 2], [5, 140, 140, 4, 3, 2, 1, 100, 155]]"
      ]
     },
     "execution_count": 92,
     "metadata": {},
     "output_type": "execute_result"
    }
   ],
   "source": [
    "all_numbers =[two_numbers, num]\n",
    "all_numbers\n"
   ]
  },
  {
   "cell_type": "code",
   "execution_count": 94,
   "id": "8f73f611-0c20-4838-925c-806af21dfad0",
   "metadata": {},
   "outputs": [
    {
     "data": {
      "text/plain": [
       "[1, 2, 3, 4, 5, 100, 140, 140, 155]"
      ]
     },
     "execution_count": 94,
     "metadata": {},
     "output_type": "execute_result"
    }
   ],
   "source": [
    "num.sort()\n",
    "num"
   ]
  },
  {
   "cell_type": "code",
   "execution_count": 96,
   "id": "8d599b6b-4e9c-4d10-8adc-1b055d170664",
   "metadata": {},
   "outputs": [
    {
     "data": {
      "text/plain": [
       "(40, 41, 42)"
      ]
     },
     "execution_count": 96,
     "metadata": {},
     "output_type": "execute_result"
    }
   ],
   "source": [
    "x = (40,41,42)\n",
    "x"
   ]
  },
  {
   "cell_type": "code",
   "execution_count": 100,
   "id": "303821a6-e29f-4094-a28f-3e98a7fbef6b",
   "metadata": {},
   "outputs": [
    {
     "data": {
      "text/plain": [
       "(50, 51, 52)"
      ]
     },
     "execution_count": 100,
     "metadata": {},
     "output_type": "execute_result"
    }
   ],
   "source": [
    "y = 50, 51, 52\n",
    "y"
   ]
  },
  {
   "cell_type": "code",
   "execution_count": 102,
   "id": "52404b2c-16ba-4afe-91f5-26751fbde27d",
   "metadata": {},
   "outputs": [
    {
     "data": {
      "text/plain": [
       "6"
      ]
     },
     "execution_count": 102,
     "metadata": {},
     "output_type": "execute_result"
    }
   ],
   "source": [
    "a,b,c = 1,4,6\n",
    "c"
   ]
  },
  {
   "cell_type": "code",
   "execution_count": 104,
   "id": "0c0e8971-e9b9-4a3d-b5ea-74411e63ebfa",
   "metadata": {},
   "outputs": [
    {
     "data": {
      "text/plain": [
       "40"
      ]
     },
     "execution_count": 104,
     "metadata": {},
     "output_type": "execute_result"
    }
   ],
   "source": [
    "x[0]"
   ]
  },
  {
   "cell_type": "code",
   "execution_count": 106,
   "id": "05780b42-f478-4a62-adbb-fef641c752f2",
   "metadata": {},
   "outputs": [
    {
     "data": {
      "text/plain": [
       "[(40, 41, 42), (50, 51, 52)]"
      ]
     },
     "execution_count": 106,
     "metadata": {},
     "output_type": "execute_result"
    }
   ],
   "source": [
    "list1=[x,y]\n",
    "list1\n"
   ]
  },
  {
   "cell_type": "code",
   "execution_count": 112,
   "id": "915335c1-df52-4d95-9742-59f8649c1f17",
   "metadata": {},
   "outputs": [
    {
     "name": "stdout",
     "output_type": "stream",
     "text": [
      "30\n",
      "17\n"
     ]
    }
   ],
   "source": [
    "(age, years_of_school) = \"30,17\".split(',')\n",
    "print(age)\n",
    "print(years_of_school)"
   ]
  },
  {
   "cell_type": "code",
   "execution_count": 116,
   "id": "313a91dd-34b5-4cca-ab3b-65499b048f77",
   "metadata": {},
   "outputs": [
    {
     "name": "stdout",
     "output_type": "stream",
     "text": [
      "area and perimeter:\n"
     ]
    },
    {
     "data": {
      "text/plain": [
       "(81, 36)"
      ]
     },
     "execution_count": 116,
     "metadata": {},
     "output_type": "execute_result"
    }
   ],
   "source": [
    "def square_info(x):\n",
    "    a=x **2\n",
    "    p=4*x\n",
    "    print(\"area and perimeter:\")\n",
    "    return a,p\n",
    "square_info(9)"
   ]
  },
  {
   "cell_type": "code",
   "execution_count": 120,
   "id": "faf2cb35-3a20-46fd-a308-874caabe3caa",
   "metadata": {},
   "outputs": [
    {
     "data": {
      "text/plain": [
       "('bmw', 'dodge', 'ford')"
      ]
     },
     "execution_count": 120,
     "metadata": {},
     "output_type": "execute_result"
    }
   ],
   "source": [
    "cars = 'bmw', 'dodge', 'ford'\n",
    "cars"
   ]
  },
  {
   "cell_type": "code",
   "execution_count": 122,
   "id": "1266fa1a-1238-4d2f-a07f-cd7d98f6871b",
   "metadata": {},
   "outputs": [
    {
     "data": {
      "text/plain": [
       "'dodge'"
      ]
     },
     "execution_count": 122,
     "metadata": {},
     "output_type": "execute_result"
    }
   ],
   "source": [
    "cars[1]"
   ]
  },
  {
   "cell_type": "code",
   "execution_count": 130,
   "id": "8b7279ba-c1f5-48c9-81af-3c2f96dc7c2e",
   "metadata": {},
   "outputs": [
    {
     "data": {
      "text/plain": [
       "'24'"
      ]
     },
     "execution_count": 130,
     "metadata": {},
     "output_type": "execute_result"
    }
   ],
   "source": [
    "name , age = \"peter,24\".split(',')\n",
    "name\n",
    "age\n"
   ]
  },
  {
   "cell_type": "code",
   "execution_count": 132,
   "id": "604e51ed-397d-4788-b736-31e3a5ebdfd0",
   "metadata": {},
   "outputs": [
    {
     "data": {
      "text/plain": [
       "'peter'"
      ]
     },
     "execution_count": 132,
     "metadata": {},
     "output_type": "execute_result"
    }
   ],
   "source": [
    "name"
   ]
  },
  {
   "cell_type": "code",
   "execution_count": 134,
   "id": "fdf92c26-5e1f-4414-a2c5-fafc8a3ebc57",
   "metadata": {},
   "outputs": [
    {
     "data": {
      "text/plain": [
       "'24'"
      ]
     },
     "execution_count": 134,
     "metadata": {},
     "output_type": "execute_result"
    }
   ],
   "source": [
    "age"
   ]
  },
  {
   "cell_type": "code",
   "execution_count": 140,
   "id": "6d7262de-1466-4d03-910c-2be31fdaaa4b",
   "metadata": {},
   "outputs": [
    {
     "name": "stdout",
     "output_type": "stream",
     "text": [
      "area :: perimeter\n"
     ]
    },
    {
     "data": {
      "text/plain": [
       "(20, 24)"
      ]
     },
     "execution_count": 140,
     "metadata": {},
     "output_type": "execute_result"
    }
   ],
   "source": [
    "def rectangle_info(x,y):\n",
    "    area = x*y\n",
    "    perimeter = 2*x + 2*y\n",
    "    print(\"area :: perimeter\")\n",
    "    return area,perimeter\n",
    "\n",
    "rectangle_info(2,10)"
   ]
  },
  {
   "cell_type": "code",
   "execution_count": 142,
   "id": "30cbbaf1-9580-414f-95ae-3764aae0831a",
   "metadata": {},
   "outputs": [
    {
     "data": {
      "text/plain": [
       "{'k1': 'cat', 'k2': 'dog', 'k3': 'mouse', 'k4': 'fish'}"
      ]
     },
     "execution_count": 142,
     "metadata": {},
     "output_type": "execute_result"
    }
   ],
   "source": [
    "dict = {'k1':'cat', 'k2':'dog', 'k3':'mouse', 'k4':'fish'}\n",
    "dict\n"
   ]
  },
  {
   "cell_type": "code",
   "execution_count": 144,
   "id": "fa507ca2-f937-42c2-9828-3ab976df9038",
   "metadata": {},
   "outputs": [
    {
     "data": {
      "text/plain": [
       "'cat'"
      ]
     },
     "execution_count": 144,
     "metadata": {},
     "output_type": "execute_result"
    }
   ],
   "source": [
    "dict['k1']"
   ]
  },
  {
   "cell_type": "code",
   "execution_count": 150,
   "id": "fbd2935f-5363-45f2-b3e6-9037bffd1b34",
   "metadata": {},
   "outputs": [
    {
     "data": {
      "text/plain": [
       "'mouse'"
      ]
     },
     "execution_count": 150,
     "metadata": {},
     "output_type": "execute_result"
    }
   ],
   "source": [
    "dict['k3']"
   ]
  },
  {
   "cell_type": "code",
   "execution_count": 154,
   "id": "7d21a637-fc2d-4c37-a4c0-3ce57d0ef13d",
   "metadata": {},
   "outputs": [
    {
     "data": {
      "text/plain": [
       "{'k1': 'cat', 'k2': 'dog', 'k3': 'mouse', 'k4': 'fish', 'k5': 'parrot'}"
      ]
     },
     "execution_count": 154,
     "metadata": {},
     "output_type": "execute_result"
    }
   ],
   "source": [
    "dict['k5'] = 'parrot'\n",
    "dict"
   ]
  },
  {
   "cell_type": "code",
   "execution_count": 160,
   "id": "b6276cc5-be3b-4694-bd56-e687624c96c1",
   "metadata": {},
   "outputs": [
    {
     "data": {
      "text/plain": [
       "{'k1': 'cat', 'k2': 'squirrel', 'k3': 'mouse', 'k4': 'fish', 'k5': 'parrot'}"
      ]
     },
     "execution_count": 160,
     "metadata": {},
     "output_type": "execute_result"
    }
   ],
   "source": [
    "dict['k2'] = 'squirrel'\n",
    "dict\n"
   ]
  },
  {
   "cell_type": "code",
   "execution_count": 168,
   "id": "fb68e8f0-6bda-4a47-a957-5878b064aca6",
   "metadata": {},
   "outputs": [
    {
     "data": {
      "text/plain": [
       "['jennifer', 'michael', 'tommy']"
      ]
     },
     "execution_count": 168,
     "metadata": {},
     "output_type": "execute_result"
    }
   ],
   "source": [
    "dept_workers={'dep1': 'peter', 'dept2':['jennifer', 'michael', 'tommy']}\n",
    "dept_workers['dept2']"
   ]
  },
  {
   "cell_type": "code",
   "execution_count": 174,
   "id": "afefb9cd-f42d-444c-9d44-67547669a6dd",
   "metadata": {},
   "outputs": [
    {
     "name": "stdout",
     "output_type": "stream",
     "text": [
      "{'point guard': 'dirk', 'shootering guard': 'al', 'small forward': 'sean', 'power forward': 'alexander', 'center': 'hector'}\n"
     ]
    }
   ],
   "source": [
    "team={}\n",
    "team['point guard'] = 'dirk'\n",
    "team['shootering guard'] = 'al'\n",
    "team['small forward'] = 'sean'\n",
    "team['power forward'] = 'alexander'\n",
    "team['center'] = 'hector'\n",
    "print(team)"
   ]
  },
  {
   "cell_type": "code",
   "execution_count": 176,
   "id": "17a2bf07-23e4-41d2-aacb-2d6b90b9577b",
   "metadata": {},
   "outputs": [
    {
     "name": "stdout",
     "output_type": "stream",
     "text": [
      "hector\n"
     ]
    }
   ],
   "source": [
    "print(team['center'])"
   ]
  },
  {
   "cell_type": "code",
   "execution_count": 178,
   "id": "263cef79-01a3-4913-a8ec-dc02092844ea",
   "metadata": {},
   "outputs": [
    {
     "name": "stdout",
     "output_type": "stream",
     "text": [
      "sean\n"
     ]
    }
   ],
   "source": [
    "print(team.get('small forward'))"
   ]
  },
  {
   "cell_type": "code",
   "execution_count": 182,
   "id": "0abd71f0-dd34-4c6c-b0c9-323383359487",
   "metadata": {},
   "outputs": [
    {
     "name": "stdout",
     "output_type": "stream",
     "text": [
      "None\n"
     ]
    }
   ],
   "source": [
    "print(team.get('coach'))"
   ]
  },
  {
   "cell_type": "code",
   "execution_count": 208,
   "id": "5f16257f-7ea0-48be-82a0-a9995dd17ed0",
   "metadata": {},
   "outputs": [
    {
     "data": {
      "text/plain": [
       "{'meal1': 'spaghetti',\n",
       " 'meal2': 'fries',\n",
       " 'meal3': 'hamburger',\n",
       " 'meal4': 'lasagna'}"
      ]
     },
     "execution_count": 208,
     "metadata": {},
     "output_type": "execute_result"
    }
   ],
   "source": [
    "menu={'meal1':'spaghetti', 'meal2':'fries', 'meal3':'hamburger', 'meal4': 'lasagna'}\n",
    "menu"
   ]
  },
  {
   "cell_type": "code",
   "execution_count": 192,
   "id": "6abf1da3-5215-4ca1-87e5-37d6d06740e7",
   "metadata": {},
   "outputs": [
    {
     "name": "stdout",
     "output_type": "stream",
     "text": [
      "fries\n"
     ]
    }
   ],
   "source": [
    "print(menu['meal2'])"
   ]
  },
  {
   "cell_type": "code",
   "execution_count": 196,
   "id": "60e087ac-339d-46c8-9075-b02c1f9562de",
   "metadata": {},
   "outputs": [
    {
     "data": {
      "text/plain": [
       "'fries'"
      ]
     },
     "execution_count": 196,
     "metadata": {},
     "output_type": "execute_result"
    }
   ],
   "source": [
    "menu.get('meal2')"
   ]
  },
  {
   "cell_type": "code",
   "execution_count": 218,
   "id": "21f7bdac-33d4-4492-a3f7-2c7da89dc524",
   "metadata": {},
   "outputs": [
    {
     "data": {
      "text/plain": [
       "{'meal1': 'spaghetti',\n",
       " 'meal2': 'fries',\n",
       " 'meal3': 'veggie burger',\n",
       " 'meal4': 'lasagna',\n",
       " 'meal6': ['pancakes', 'ice cream', 'tiramisu'],\n",
       " 'meal5': 'soup'}"
      ]
     },
     "execution_count": 218,
     "metadata": {},
     "output_type": "execute_result"
    }
   ],
   "source": [
    "menu['meal5']='soup'\n",
    "menu\n"
   ]
  },
  {
   "cell_type": "code",
   "execution_count": 212,
   "id": "30180a01-89fc-4cfd-aac8-152b2251776a",
   "metadata": {},
   "outputs": [
    {
     "data": {
      "text/plain": [
       "{'meal1': 'spaghetti',\n",
       " 'meal2': 'fries',\n",
       " 'meal3': 'veggie burger',\n",
       " 'meal4': 'lasagna'}"
      ]
     },
     "execution_count": 212,
     "metadata": {},
     "output_type": "execute_result"
    }
   ],
   "source": [
    "menu['meal3'] = 'veggie burger'\n",
    "menu\n",
    "\n"
   ]
  },
  {
   "cell_type": "code",
   "execution_count": 214,
   "id": "4000c6e2-6906-446b-adf9-5ada55f7d505",
   "metadata": {},
   "outputs": [
    {
     "data": {
      "text/plain": [
       "{'meal1': 'spaghetti',\n",
       " 'meal2': 'fries',\n",
       " 'meal3': 'veggie burger',\n",
       " 'meal4': 'lasagna',\n",
       " 'meal6': ['pancakes', 'ice cream', 'tiramisu']}"
      ]
     },
     "execution_count": 214,
     "metadata": {},
     "output_type": "execute_result"
    }
   ],
   "source": [
    "deserts = ['pancakes', 'ice cream', 'tiramisu']\n",
    "menu['meal6'] = deserts\n",
    "menu"
   ]
  },
  {
   "cell_type": "code",
   "execution_count": 220,
   "id": "da7aaa2d-04e0-4298-9c04-c649e6097224",
   "metadata": {},
   "outputs": [
    {
     "name": "stdout",
     "output_type": "stream",
     "text": [
      "{'spaghetti': 10, 'fries': 5, 'veggie burger': 8, 'lasagna': 12, 'soup': 5}\n"
     ]
    }
   ],
   "source": [
    "prices={}\n",
    "prices[menu['meal1']] = 10\n",
    "prices[menu['meal2']] = 5\n",
    "prices[menu['meal3']] = 8\n",
    "prices[menu['meal4']] = 12\n",
    "prices[menu['meal5']] = 5\n",
    "print(prices)\n"
   ]
  },
  {
   "cell_type": "code",
   "execution_count": 222,
   "id": "ad8e680a-8ab6-4502-9b64-3f12f9f8fe9b",
   "metadata": {},
   "outputs": [
    {
     "name": "stdout",
     "output_type": "stream",
     "text": [
      "10\n"
     ]
    }
   ],
   "source": [
    "print(prices.get('spaghetti'))"
   ]
  },
  {
   "cell_type": "code",
   "execution_count": null,
   "id": "2d00bc6f-858e-438d-b13b-cb7ebcb2ba21",
   "metadata": {},
   "outputs": [],
   "source": []
  }
 ],
 "metadata": {
  "kernelspec": {
   "display_name": "Python [conda env:base] *",
   "language": "python",
   "name": "conda-base-py"
  },
  "language_info": {
   "codemirror_mode": {
    "name": "ipython",
    "version": 3
   },
   "file_extension": ".py",
   "mimetype": "text/x-python",
   "name": "python",
   "nbconvert_exporter": "python",
   "pygments_lexer": "ipython3",
   "version": "3.12.7"
  }
 },
 "nbformat": 4,
 "nbformat_minor": 5
}
