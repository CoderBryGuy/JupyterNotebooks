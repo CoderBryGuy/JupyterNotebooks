{
 "cells": [
  {
   "cell_type": "code",
   "execution_count": 6,
   "id": "e4939fec-865d-445c-9196-5347851c26ee",
   "metadata": {},
   "outputs": [
    {
     "name": "stdout",
     "output_type": "stream",
     "text": [
      "my first function\n"
     ]
    }
   ],
   "source": [
    "def simple():\n",
    "     print('my first function')\n",
    "simple() "
   ]
  },
  {
   "cell_type": "code",
   "execution_count": 8,
   "id": "3feb7eae-cf75-461b-8e7f-baed43ad672d",
   "metadata": {},
   "outputs": [
    {
     "name": "stdout",
     "output_type": "stream",
     "text": [
      "my first function\n"
     ]
    }
   ],
   "source": [
    "simple()\n"
   ]
  },
  {
   "cell_type": "code",
   "execution_count": 12,
   "id": "01941288-f9f1-43e9-8fc4-c1b30fe27da1",
   "metadata": {},
   "outputs": [],
   "source": [
    "def plus_ten(a):\n",
    "    return a + 10\n",
    "    "
   ]
  },
  {
   "cell_type": "code",
   "execution_count": 14,
   "id": "0caaff99-378b-46cf-aa85-02ac268824ff",
   "metadata": {},
   "outputs": [
    {
     "data": {
      "text/plain": [
       "12"
      ]
     },
     "execution_count": 14,
     "metadata": {},
     "output_type": "execute_result"
    }
   ],
   "source": [
    "plus_ten(2)"
   ]
  },
  {
   "cell_type": "code",
   "execution_count": 16,
   "id": "f9e244bb-e49f-4ba4-a9c4-6e85d4c7707d",
   "metadata": {},
   "outputs": [
    {
     "data": {
      "text/plain": [
       "25"
      ]
     },
     "execution_count": 16,
     "metadata": {},
     "output_type": "execute_result"
    }
   ],
   "source": [
    "plus_ten(15)"
   ]
  },
  {
   "cell_type": "code",
   "execution_count": 18,
   "id": "b5bae1f1-7514-4451-872e-030476d66dcd",
   "metadata": {},
   "outputs": [],
   "source": [
    "def multiply_by_2(x):\n",
    "    return 2*x"
   ]
  },
  {
   "cell_type": "code",
   "execution_count": 20,
   "id": "15774e80-653f-4412-93c8-ed5f16b8aee9",
   "metadata": {},
   "outputs": [
    {
     "data": {
      "text/plain": [
       "30"
      ]
     },
     "execution_count": 20,
     "metadata": {},
     "output_type": "execute_result"
    }
   ],
   "source": [
    "multiply_by_2(15)"
   ]
  },
  {
   "cell_type": "code",
   "execution_count": 22,
   "id": "f292d6ba-776d-4081-95c0-93eb11a614ad",
   "metadata": {},
   "outputs": [],
   "source": [
    "def division_by_2(x):\n",
    "    return float(x)/2"
   ]
  },
  {
   "cell_type": "code",
   "execution_count": 24,
   "id": "ffbe64c4-54d4-4914-a00b-0bdcb73b2d54",
   "metadata": {},
   "outputs": [
    {
     "data": {
      "text/plain": [
       "15.0"
      ]
     },
     "execution_count": 24,
     "metadata": {},
     "output_type": "execute_result"
    }
   ],
   "source": [
    "division_by_2(30)"
   ]
  },
  {
   "cell_type": "code",
   "execution_count": 30,
   "id": "8f755577-2dbd-4afc-8602-d2fc6374433b",
   "metadata": {},
   "outputs": [],
   "source": [
    "def plus_ten(a):\n",
    "    result = a + 10\n",
    "    return result"
   ]
  },
  {
   "cell_type": "code",
   "execution_count": 32,
   "id": "810958b2-43b1-4da9-84e0-5ff194dd888f",
   "metadata": {},
   "outputs": [
    {
     "data": {
      "text/plain": [
       "22"
      ]
     },
     "execution_count": 32,
     "metadata": {},
     "output_type": "execute_result"
    }
   ],
   "source": [
    "plus_ten(12)"
   ]
  },
  {
   "cell_type": "code",
   "execution_count": 38,
   "id": "a6790dd6-be78-425e-b960-0a0697d3ece7",
   "metadata": {},
   "outputs": [],
   "source": [
    "def exponentiation_exp_2(x):\n",
    "    result = \"Raised to the power of 2: \" + str(x **2)\n",
    "    return result"
   ]
  },
  {
   "cell_type": "code",
   "execution_count": 40,
   "id": "5612abb3-a525-4797-87f6-40f7167e086e",
   "metadata": {},
   "outputs": [
    {
     "data": {
      "text/plain": [
       "'Raised to the power of 2: 25'"
      ]
     },
     "execution_count": 40,
     "metadata": {},
     "output_type": "execute_result"
    }
   ],
   "source": [
    "exponentiation_exp_2(5)\n"
   ]
  },
  {
   "cell_type": "code",
   "execution_count": 44,
   "id": "7575a4f3-6405-4913-9d58-2da4c8a33607",
   "metadata": {},
   "outputs": [],
   "source": [
    "def wage(w_hours):\n",
    "    return w_hours * 25\n",
    "\n",
    "def with_bonus(w_hours):\n",
    "    return wage(w_hours) + 50"
   ]
  },
  {
   "cell_type": "code",
   "execution_count": 46,
   "id": "70f86cb8-773b-49cd-8ce1-47b430197e52",
   "metadata": {},
   "outputs": [
    {
     "data": {
      "text/plain": [
       "200"
      ]
     },
     "execution_count": 46,
     "metadata": {},
     "output_type": "execute_result"
    }
   ],
   "source": [
    "wage(8)"
   ]
  },
  {
   "cell_type": "code",
   "execution_count": 52,
   "id": "2975d78d-4d7d-4ebf-8832-0ad165b890c6",
   "metadata": {},
   "outputs": [],
   "source": [
    "def plus_five(x):\n",
    "    return x + 5\n",
    "\n",
    "\n",
    "def m_by_3(y):\n",
    "    return plus_five(y) * 3"
   ]
  },
  {
   "cell_type": "code",
   "execution_count": 54,
   "id": "6169e155-ea0f-4c23-bf55-78c24a998d4a",
   "metadata": {},
   "outputs": [
    {
     "data": {
      "text/plain": [
       "24"
      ]
     },
     "execution_count": 54,
     "metadata": {},
     "output_type": "execute_result"
    }
   ],
   "source": [
    "m_by_3(3)"
   ]
  },
  {
   "cell_type": "code",
   "execution_count": null,
   "id": "71c6778e-fc28-4a5f-8073-40d67862f25d",
   "metadata": {},
   "outputs": [],
   "source": []
  }
 ],
 "metadata": {
  "kernelspec": {
   "display_name": "Python [conda env:base] *",
   "language": "python",
   "name": "conda-base-py"
  },
  "language_info": {
   "codemirror_mode": {
    "name": "ipython",
    "version": 3
   },
   "file_extension": ".py",
   "mimetype": "text/x-python",
   "name": "python",
   "nbconvert_exporter": "python",
   "pygments_lexer": "ipython3",
   "version": "3.12.7"
  }
 },
 "nbformat": 4,
 "nbformat_minor": 5
}
