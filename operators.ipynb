{
 "cells": [
  {
   "cell_type": "code",
   "execution_count": 1,
   "id": "cb6a9ec1-709b-463b-aa4e-b83e62526f85",
   "metadata": {},
   "outputs": [
    {
     "data": {
      "text/plain": [
       "False"
      ]
     },
     "execution_count": 1,
     "metadata": {},
     "output_type": "execute_result"
    }
   ],
   "source": [
    "10 == 10 / 2 "
   ]
  },
  {
   "cell_type": "code",
   "execution_count": 3,
   "id": "e337eb5f-4021-4691-a93f-53701da6b102",
   "metadata": {},
   "outputs": [
    {
     "data": {
      "text/plain": [
       "False"
      ]
     },
     "execution_count": 3,
     "metadata": {},
     "output_type": "execute_result"
    }
   ],
   "source": [
    "10 != 10 "
   ]
  },
  {
   "cell_type": "code",
   "execution_count": 5,
   "id": "8f0ec531-9b26-4cf3-a630-eafd50ac8b4e",
   "metadata": {},
   "outputs": [
    {
     "data": {
      "text/plain": [
       "True"
      ]
     },
     "execution_count": 5,
     "metadata": {},
     "output_type": "execute_result"
    }
   ],
   "source": [
    "10 != 15"
   ]
  },
  {
   "cell_type": "code",
   "execution_count": 7,
   "id": "cd8cd69c-32e8-4132-b58c-9c491ac23e55",
   "metadata": {},
   "outputs": [
    {
     "data": {
      "text/plain": [
       "True"
      ]
     },
     "execution_count": 7,
     "metadata": {},
     "output_type": "execute_result"
    }
   ],
   "source": [
    "100 > 50"
   ]
  },
  {
   "cell_type": "code",
   "execution_count": 9,
   "id": "4bb4db7d-1f4d-43c5-bc89-7048a8906be7",
   "metadata": {},
   "outputs": [
    {
     "data": {
      "text/plain": [
       "False"
      ]
     },
     "execution_count": 9,
     "metadata": {},
     "output_type": "execute_result"
    }
   ],
   "source": [
    "100 < 50"
   ]
  },
  {
   "cell_type": "code",
   "execution_count": 11,
   "id": "e06a950f-4dd1-40b6-9791-9823438bdc44",
   "metadata": {},
   "outputs": [
    {
     "data": {
      "text/plain": [
       "False"
      ]
     },
     "execution_count": 11,
     "metadata": {},
     "output_type": "execute_result"
    }
   ],
   "source": [
    "15 >= 10 + 10\n"
   ]
  },
  {
   "cell_type": "code",
   "execution_count": 13,
   "id": "201f5576-7f7b-4526-98fa-1c8248215177",
   "metadata": {},
   "outputs": [
    {
     "data": {
      "text/plain": [
       "True"
      ]
     },
     "execution_count": 13,
     "metadata": {},
     "output_type": "execute_result"
    }
   ],
   "source": [
    "10 <= 10 +5 "
   ]
  },
  {
   "cell_type": "code",
   "execution_count": 15,
   "id": "e5eaa4b8-59e4-4de0-a0e2-89fc96d72bb1",
   "metadata": {},
   "outputs": [
    {
     "data": {
      "text/plain": [
       "True"
      ]
     },
     "execution_count": 15,
     "metadata": {},
     "output_type": "execute_result"
    }
   ],
   "source": [
    "25 < 30"
   ]
  },
  {
   "cell_type": "code",
   "execution_count": 17,
   "id": "772a8b22-1982-49e1-8663-a4642c069fcb",
   "metadata": {},
   "outputs": [
    {
     "data": {
      "text/plain": [
       "True"
      ]
     },
     "execution_count": 17,
     "metadata": {},
     "output_type": "execute_result"
    }
   ],
   "source": [
    "5*3 <= 5 **3\n"
   ]
  },
  {
   "cell_type": "code",
   "execution_count": 21,
   "id": "1e6556d1-9878-4323-bd45-90cae9302dcf",
   "metadata": {},
   "outputs": [
    {
     "data": {
      "text/plain": [
       "True"
      ]
     },
     "execution_count": 21,
     "metadata": {},
     "output_type": "execute_result"
    }
   ],
   "source": [
    "100 == 10 **2"
   ]
  },
  {
   "cell_type": "code",
   "execution_count": 24,
   "id": "f9ec72a2-077c-465c-8afa-895d488fb5b9",
   "metadata": {},
   "outputs": [
    {
     "data": {
      "text/plain": [
       "True"
      ]
     },
     "execution_count": 24,
     "metadata": {},
     "output_type": "execute_result"
    }
   ],
   "source": [
    "53 != 46"
   ]
  },
  {
   "cell_type": "code",
   "execution_count": 26,
   "id": "4202bcce-a94e-4a5c-b09f-90522593c7b8",
   "metadata": {},
   "outputs": [
    {
     "data": {
      "text/plain": [
       "True"
      ]
     },
     "execution_count": 26,
     "metadata": {},
     "output_type": "execute_result"
    }
   ],
   "source": [
    "5 >= 3"
   ]
  },
  {
   "cell_type": "code",
   "execution_count": 28,
   "id": "4f293a96-6e63-427a-a5aa-f418f6ab578a",
   "metadata": {},
   "outputs": [
    {
     "data": {
      "text/plain": [
       "True"
      ]
     },
     "execution_count": 28,
     "metadata": {},
     "output_type": "execute_result"
    }
   ],
   "source": [
    "True and True"
   ]
  },
  {
   "cell_type": "code",
   "execution_count": 30,
   "id": "90724c73-4e93-4b4d-94f1-1b3cd1495f4f",
   "metadata": {},
   "outputs": [
    {
     "data": {
      "text/plain": [
       "False"
      ]
     },
     "execution_count": 30,
     "metadata": {},
     "output_type": "execute_result"
    }
   ],
   "source": [
    "True and False"
   ]
  },
  {
   "cell_type": "code",
   "execution_count": 32,
   "id": "462c677e-8ffc-48f0-9ce8-3ad923315f10",
   "metadata": {},
   "outputs": [
    {
     "data": {
      "text/plain": [
       "False"
      ]
     },
     "execution_count": 32,
     "metadata": {},
     "output_type": "execute_result"
    }
   ],
   "source": [
    "False and False"
   ]
  },
  {
   "cell_type": "code",
   "execution_count": 34,
   "id": "7ca01f10-9d61-4265-9b3b-58f4f0efd1bf",
   "metadata": {},
   "outputs": [
    {
     "data": {
      "text/plain": [
       "False"
      ]
     },
     "execution_count": 34,
     "metadata": {},
     "output_type": "execute_result"
    }
   ],
   "source": [
    "False or False\n"
   ]
  },
  {
   "cell_type": "code",
   "execution_count": 36,
   "id": "722ab581-1a83-44a8-895d-46476dfc5eb3",
   "metadata": {},
   "outputs": [
    {
     "data": {
      "text/plain": [
       "True"
      ]
     },
     "execution_count": 36,
     "metadata": {},
     "output_type": "execute_result"
    }
   ],
   "source": [
    "True or True\n"
   ]
  },
  {
   "cell_type": "code",
   "execution_count": 38,
   "id": "8e0ddb17-b278-4a54-8f50-ec1808e34530",
   "metadata": {},
   "outputs": [
    {
     "data": {
      "text/plain": [
       "True"
      ]
     },
     "execution_count": 38,
     "metadata": {},
     "output_type": "execute_result"
    }
   ],
   "source": [
    "True or False\n"
   ]
  },
  {
   "cell_type": "code",
   "execution_count": 40,
   "id": "f75ecc8f-64da-4937-a7cc-0cb43c9db8e9",
   "metadata": {},
   "outputs": [
    {
     "data": {
      "text/plain": [
       "False"
      ]
     },
     "execution_count": 40,
     "metadata": {},
     "output_type": "execute_result"
    }
   ],
   "source": [
    "not True"
   ]
  },
  {
   "cell_type": "code",
   "execution_count": 42,
   "id": "c557e039-43c2-45a2-9a25-4688851a1e51",
   "metadata": {},
   "outputs": [
    {
     "data": {
      "text/plain": [
       "False"
      ]
     },
     "execution_count": 42,
     "metadata": {},
     "output_type": "execute_result"
    }
   ],
   "source": [
    "3>5 and 10 <= 20"
   ]
  },
  {
   "cell_type": "code",
   "execution_count": 44,
   "id": "64fb4948-249e-4a5a-acd8-4e1935887c9e",
   "metadata": {},
   "outputs": [
    {
     "data": {
      "text/plain": [
       "False"
      ]
     },
     "execution_count": 44,
     "metadata": {},
     "output_type": "execute_result"
    }
   ],
   "source": [
    "True and not True"
   ]
  },
  {
   "cell_type": "code",
   "execution_count": 46,
   "id": "89077301-1f6f-457d-adba-ffcbc83f0731",
   "metadata": {},
   "outputs": [
    {
     "data": {
      "text/plain": [
       "False"
      ]
     },
     "execution_count": 46,
     "metadata": {},
     "output_type": "execute_result"
    }
   ],
   "source": [
    "False or not True and True\n"
   ]
  },
  {
   "cell_type": "code",
   "execution_count": 48,
   "id": "57a1dbe6-eecc-4118-840f-f86c6721c538",
   "metadata": {},
   "outputs": [
    {
     "data": {
      "text/plain": [
       "True"
      ]
     },
     "execution_count": 48,
     "metadata": {},
     "output_type": "execute_result"
    }
   ],
   "source": [
    "True and not True or True"
   ]
  },
  {
   "cell_type": "code",
   "execution_count": 50,
   "id": "834747f8-b215-44ac-acb6-dba8429e0496",
   "metadata": {},
   "outputs": [
    {
     "data": {
      "text/plain": [
       "False"
      ]
     },
     "execution_count": 50,
     "metadata": {},
     "output_type": "execute_result"
    }
   ],
   "source": [
    "True and False"
   ]
  },
  {
   "cell_type": "code",
   "execution_count": 52,
   "id": "60f7b7b1-1fa2-4f45-a957-5e6421055502",
   "metadata": {},
   "outputs": [
    {
     "data": {
      "text/plain": [
       "False"
      ]
     },
     "execution_count": 52,
     "metadata": {},
     "output_type": "execute_result"
    }
   ],
   "source": [
    "False or False"
   ]
  },
  {
   "cell_type": "code",
   "execution_count": 54,
   "id": "319db21f-ccd6-42ac-8db2-b5858cd77016",
   "metadata": {},
   "outputs": [
    {
     "data": {
      "text/plain": [
       "True"
      ]
     },
     "execution_count": 54,
     "metadata": {},
     "output_type": "execute_result"
    }
   ],
   "source": [
    "True and not True or True"
   ]
  },
  {
   "cell_type": "code",
   "execution_count": 58,
   "id": "594f4897-f412-46c6-a700-f0bb4ee310e3",
   "metadata": {},
   "outputs": [
    {
     "data": {
      "text/plain": [
       "False"
      ]
     },
     "execution_count": 58,
     "metadata": {},
     "output_type": "execute_result"
    }
   ],
   "source": [
    "14 == int"
   ]
  },
  {
   "cell_type": "code",
   "execution_count": 60,
   "id": "4d8bb045-fbb0-4bc3-b2ce-ecb817bb67bc",
   "metadata": {},
   "outputs": [
    {
     "name": "stderr",
     "output_type": "stream",
     "text": [
      "<>:1: SyntaxWarning: \"is\" with 'int' literal. Did you mean \"==\"?\n",
      "<>:1: SyntaxWarning: \"is\" with 'int' literal. Did you mean \"==\"?\n",
      "/tmp/ipykernel_5412/2929037671.py:1: SyntaxWarning: \"is\" with 'int' literal. Did you mean \"==\"?\n",
      "  5 is 6\n"
     ]
    },
    {
     "data": {
      "text/plain": [
       "False"
      ]
     },
     "execution_count": 60,
     "metadata": {},
     "output_type": "execute_result"
    }
   ],
   "source": [
    "5 is 6"
   ]
  },
  {
   "cell_type": "code",
   "execution_count": 62,
   "id": "afe8f3b2-8085-4547-a97c-0fa5b095d3f4",
   "metadata": {},
   "outputs": [
    {
     "data": {
      "text/plain": [
       "True"
      ]
     },
     "execution_count": 62,
     "metadata": {},
     "output_type": "execute_result"
    }
   ],
   "source": [
    "5!=6"
   ]
  },
  {
   "cell_type": "code",
   "execution_count": 64,
   "id": "76468282-beef-4743-8393-5813a4f50e76",
   "metadata": {},
   "outputs": [
    {
     "data": {
      "text/plain": [
       "False"
      ]
     },
     "execution_count": 64,
     "metadata": {},
     "output_type": "execute_result"
    }
   ],
   "source": [
    "False or not True and not False"
   ]
  },
  {
   "cell_type": "code",
   "execution_count": 66,
   "id": "273ea0c7-ef9b-4ea2-9e7a-c57c3dd26bfd",
   "metadata": {},
   "outputs": [
    {
     "data": {
      "text/plain": [
       "True"
      ]
     },
     "execution_count": 66,
     "metadata": {},
     "output_type": "execute_result"
    }
   ],
   "source": [
    "\n",
    "True and not False and True or not False"
   ]
  },
  {
   "cell_type": "code",
   "execution_count": 68,
   "id": "c0189df6-12e1-4a39-a59b-d469166a7d3c",
   "metadata": {},
   "outputs": [
    {
     "data": {
      "text/plain": [
       "True"
      ]
     },
     "execution_count": 68,
     "metadata": {},
     "output_type": "execute_result"
    }
   ],
   "source": [
    "\n",
    "True or False and False"
   ]
  },
  {
   "cell_type": "code",
   "execution_count": 70,
   "id": "4020078f-5fa6-4acb-838c-d7d8653e6e13",
   "metadata": {},
   "outputs": [
    {
     "data": {
      "text/plain": [
       "False"
      ]
     },
     "execution_count": 70,
     "metadata": {},
     "output_type": "execute_result"
    }
   ],
   "source": [
    "False and True or False"
   ]
  },
  {
   "cell_type": "code",
   "execution_count": 72,
   "id": "630f3b14-df2c-4e6c-b584-379f3195eb5a",
   "metadata": {},
   "outputs": [
    {
     "name": "stderr",
     "output_type": "stream",
     "text": [
      "<>:1: SyntaxWarning: \"is\" with 'int' literal. Did you mean \"==\"?\n",
      "<>:1: SyntaxWarning: \"is\" with 'int' literal. Did you mean \"==\"?\n",
      "/tmp/ipykernel_5412/1728016391.py:1: SyntaxWarning: \"is\" with 'int' literal. Did you mean \"==\"?\n",
      "  10 is 12\n"
     ]
    },
    {
     "data": {
      "text/plain": [
       "False"
      ]
     },
     "execution_count": 72,
     "metadata": {},
     "output_type": "execute_result"
    }
   ],
   "source": [
    "10 is 12"
   ]
  },
  {
   "cell_type": "code",
   "execution_count": 74,
   "id": "80dbde83-d3ee-4906-a831-e9f8e4902195",
   "metadata": {},
   "outputs": [
    {
     "name": "stderr",
     "output_type": "stream",
     "text": [
      "<>:1: SyntaxWarning: \"is\" with 'int' literal. Did you mean \"==\"?\n",
      "<>:1: SyntaxWarning: \"is\" with 'int' literal. Did you mean \"==\"?\n",
      "/tmp/ipykernel_5412/4077015830.py:1: SyntaxWarning: \"is\" with 'int' literal. Did you mean \"==\"?\n",
      "  50 is 50\n"
     ]
    },
    {
     "data": {
      "text/plain": [
       "True"
      ]
     },
     "execution_count": 74,
     "metadata": {},
     "output_type": "execute_result"
    }
   ],
   "source": [
    "50 is 50"
   ]
  },
  {
   "cell_type": "code",
   "execution_count": 76,
   "id": "6f440219-3631-4267-afc4-3522fcfc814a",
   "metadata": {},
   "outputs": [
    {
     "name": "stderr",
     "output_type": "stream",
     "text": [
      "<>:1: SyntaxWarning: \"is\" with 'int' literal. Did you mean \"==\"?\n",
      "<>:1: SyntaxWarning: \"is\" with 'int' literal. Did you mean \"==\"?\n",
      "/tmp/ipykernel_5412/4077015830.py:1: SyntaxWarning: \"is\" with 'int' literal. Did you mean \"==\"?\n",
      "  50 is 50\n"
     ]
    },
    {
     "data": {
      "text/plain": [
       "True"
      ]
     },
     "execution_count": 76,
     "metadata": {},
     "output_type": "execute_result"
    }
   ],
   "source": [
    "50 is 50"
   ]
  },
  {
   "cell_type": "code",
   "execution_count": 78,
   "id": "ce023c0f-3046-479e-b213-3a8678759add",
   "metadata": {},
   "outputs": [
    {
     "name": "stdout",
     "output_type": "stream",
     "text": [
      "hooray\n"
     ]
    }
   ],
   "source": [
    "if 5 == 15/3:\n",
    "    print('hooray')"
   ]
  },
  {
   "cell_type": "code",
   "execution_count": 82,
   "id": "bd83eb97-4619-4692-a92b-275688808eda",
   "metadata": {},
   "outputs": [
    {
     "name": "stdout",
     "output_type": "stream",
     "text": [
      "booo\n"
     ]
    }
   ],
   "source": [
    "if 5 == 18/3: \n",
    "    print('hooray')\n",
    "else:\n",
    "    print('booo')"
   ]
  },
  {
   "cell_type": "code",
   "execution_count": 84,
   "id": "d1377ffe-7038-4e02-b3d9-26c1ef28e8c9",
   "metadata": {},
   "outputs": [
    {
     "name": "stdout",
     "output_type": "stream",
     "text": [
      "hooray\n"
     ]
    }
   ],
   "source": [
    "if 5 != 3*6:\n",
    "    print('hooray')\n",
    "else:\n",
    "    print('booooo')"
   ]
  },
  {
   "cell_type": "code",
   "execution_count": 86,
   "id": "58d0b736-54cb-4202-88f9-0ad5c57dab7a",
   "metadata": {},
   "outputs": [
    {
     "name": "stdout",
     "output_type": "stream",
     "text": [
      "the code has been satified\n"
     ]
    }
   ],
   "source": [
    "if 5 > 2:\n",
    "    print(\"the code has been satified\")"
   ]
  },
  {
   "cell_type": "code",
   "execution_count": 98,
   "id": "bfe7e4f0-486b-4a99-8ad9-0a17720eb4d7",
   "metadata": {},
   "outputs": [
    {
     "name": "stdout",
     "output_type": "stream",
     "text": [
      "both conditions are correct\n",
      "at least one is correct\n"
     ]
    }
   ],
   "source": [
    "x = 10\n",
    "y = 20\n",
    "if x > 3 and y > 14:\n",
    "    print('both conditions are correct')\n",
    "\n",
    "if x <= y or y <=14:\n",
    "    print('at least one is correct')"
   ]
  },
  {
   "cell_type": "code",
   "execution_count": 100,
   "id": "57eb9187-02b0-43d9-b174-0f9ca09ba728",
   "metadata": {},
   "outputs": [
    {
     "name": "stdout",
     "output_type": "stream",
     "text": [
      "case 2\n"
     ]
    }
   ],
   "source": [
    "x = 1\n",
    "if x > 3:\n",
    "    print(\"case 1\")\n",
    "if x <= 3:\n",
    "    print(\"case 2\")"
   ]
  },
  {
   "cell_type": "code",
   "execution_count": null,
   "id": "4737bd9a-a915-4698-a701-6a8bd1ada009",
   "metadata": {},
   "outputs": [],
   "source": []
  },
  {
   "cell_type": "code",
   "execution_count": 102,
   "id": "c319107b-6bb1-4b38-881c-73435fde0cab",
   "metadata": {},
   "outputs": [
    {
     "name": "stdout",
     "output_type": "stream",
     "text": [
      "case 2\n"
     ]
    }
   ],
   "source": [
    "x = 1\n",
    "if x > 3:\n",
    "    print(\"case 1\")\n",
    "else:\n",
    "    print(\"case 2\")"
   ]
  },
  {
   "cell_type": "code",
   "execution_count": 104,
   "id": "c2c6caba-63ca-48df-a608-649744c27208",
   "metadata": {},
   "outputs": [
    {
     "name": "stdout",
     "output_type": "stream",
     "text": [
      "busy day\n"
     ]
    }
   ],
   "source": [
    "x = 123\n",
    "if x > 100:\n",
    "    print('busy day')\n",
    "else:\n",
    "    print('a calm day')"
   ]
  },
  {
   "cell_type": "code",
   "execution_count": 112,
   "id": "eae8f8cf-5165-4d98-a325-b216502ed3df",
   "metadata": {},
   "outputs": [
    {
     "name": "stdout",
     "output_type": "stream",
     "text": [
      "equal\n",
      "less\n",
      "greater\n"
     ]
    }
   ],
   "source": [
    "def compare_to_five(y):\n",
    "    if y > 5:\n",
    "        return \"greater\"\n",
    "    elif y < 5:\n",
    "        return \"less\"\n",
    "    elif y < 0:\n",
    "        return \"negative\"\n",
    "    else:\n",
    "        return \"equal\"\n",
    "        \n",
    "print(compare_to_five(5))\n",
    "print(compare_to_five(3))\n",
    "print(compare_to_five(7))\n"
   ]
  },
  {
   "cell_type": "code",
   "execution_count": 114,
   "id": "964b4948-7d61-4457-9c4c-2533de6c7d9c",
   "metadata": {},
   "outputs": [
    {
     "name": "stdout",
     "output_type": "stream",
     "text": [
      "greater\n"
     ]
    }
   ],
   "source": [
    "print(compare_to_five(10))"
   ]
  },
  {
   "cell_type": "code",
   "execution_count": 116,
   "id": "4a97bec7-c410-44d3-8259-3ad4d0a5eb00",
   "metadata": {},
   "outputs": [
    {
     "name": "stdout",
     "output_type": "stream",
     "text": [
      "less\n"
     ]
    }
   ],
   "source": [
    "print(compare_to_five(2))"
   ]
  },
  {
   "cell_type": "code",
   "execution_count": 118,
   "id": "96b02ef5-3116-41cb-918d-21b43af55503",
   "metadata": {},
   "outputs": [
    {
     "name": "stdout",
     "output_type": "stream",
     "text": [
      "less\n"
     ]
    }
   ],
   "source": [
    "print(compare_to_five(-7))"
   ]
  },
  {
   "cell_type": "code",
   "execution_count": 138,
   "id": "2b153efc-82d9-4884-8e9b-f3f4e686d0b8",
   "metadata": {},
   "outputs": [],
   "source": [
    "def xsize(x):\n",
    "    if x>200:\n",
    "        print('big')\n",
    "    elif x > 100 and x <= 200:\n",
    "        print('average')\n",
    "    elif x > -1 and x <=100:\n",
    "        print('small')\n",
    "    else:\n",
    "        print('negative')"
   ]
  },
  {
   "cell_type": "code",
   "execution_count": 130,
   "id": "8a7c3691-c5f2-4cd2-9e78-abfe6d40fada",
   "metadata": {},
   "outputs": [
    {
     "name": "stdout",
     "output_type": "stream",
     "text": [
      "big\n",
      "average\n",
      "small\n"
     ]
    }
   ],
   "source": [
    "xsize(300)\n",
    "xsize(200)\n",
    "xsize(100)"
   ]
  },
  {
   "cell_type": "code",
   "execution_count": 128,
   "id": "1c18feda-fd4f-47ac-8404-f75ce4c21955",
   "metadata": {},
   "outputs": [
    {
     "name": "stdout",
     "output_type": "stream",
     "text": [
      "big\n",
      "None\n",
      "average\n",
      "None\n",
      "small\n",
      "None\n"
     ]
    }
   ],
   "source": [
    "print(xsize(300))\n",
    "print(xsize(200))\n",
    "print(xsize(100))"
   ]
  },
  {
   "cell_type": "code",
   "execution_count": 140,
   "id": "b502d511-e68c-404b-a297-d0edc58f93ee",
   "metadata": {},
   "outputs": [
    {
     "name": "stdout",
     "output_type": "stream",
     "text": [
      "big\n",
      "average\n",
      "small\n",
      "negative\n"
     ]
    }
   ],
   "source": [
    "xsize(300)\n",
    "xsize(200)\n",
    "xsize(100)\n",
    "xsize(-200)\n"
   ]
  },
  {
   "cell_type": "code",
   "execution_count": 2,
   "id": "8e384636-a9bb-4deb-818c-778b9040b191",
   "metadata": {},
   "outputs": [
    {
     "name": "stdout",
     "output_type": "stream",
     "text": [
      "wrong\n"
     ]
    }
   ],
   "source": [
    "x =2 \n",
    "if x > 4:\n",
    "    print('correct')\n",
    "else:\n",
    "    print('wrong')"
   ]
  },
  {
   "cell_type": "code",
   "execution_count": null,
   "id": "1640ed4c-b731-4c7c-b0af-6a07c92b9232",
   "metadata": {},
   "outputs": [],
   "source": []
  }
 ],
 "metadata": {
  "kernelspec": {
   "display_name": "Python [conda env:base] *",
   "language": "python",
   "name": "conda-base-py"
  },
  "language_info": {
   "codemirror_mode": {
    "name": "ipython",
    "version": 3
   },
   "file_extension": ".py",
   "mimetype": "text/x-python",
   "name": "python",
   "nbconvert_exporter": "python",
   "pygments_lexer": "ipython3",
   "version": "3.12.7"
  }
 },
 "nbformat": 4,
 "nbformat_minor": 5
}
