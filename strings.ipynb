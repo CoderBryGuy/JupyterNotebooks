{
 "cells": [
  {
   "cell_type": "code",
   "execution_count": 2,
   "id": "65401727-102c-441d-92f6-ceacb89c3227",
   "metadata": {},
   "outputs": [
    {
     "data": {
      "text/plain": [
       "'george'"
      ]
     },
     "execution_count": 2,
     "metadata": {},
     "output_type": "execute_result"
    }
   ],
   "source": [
    "\"george\"\n"
   ]
  },
  {
   "cell_type": "code",
   "execution_count": 4,
   "id": "f1e7e7fd-8b23-40f6-8d16-8a50f51d4897",
   "metadata": {},
   "outputs": [
    {
     "name": "stdout",
     "output_type": "stream",
     "text": [
      "george\n"
     ]
    }
   ],
   "source": [
    "print(\"george\")"
   ]
  },
  {
   "cell_type": "code",
   "execution_count": 6,
   "id": "3785b4fb-07a3-48a3-958a-35173e1a7e5a",
   "metadata": {},
   "outputs": [
    {
     "data": {
      "text/plain": [
       "'george'"
      ]
     },
     "execution_count": 6,
     "metadata": {},
     "output_type": "execute_result"
    }
   ],
   "source": [
    "x4 = \"george\"\n",
    "x4"
   ]
  },
  {
   "cell_type": "code",
   "execution_count": 10,
   "id": "d612fdc8-052f-4e6a-8cc0-0222e42d0394",
   "metadata": {},
   "outputs": [
    {
     "name": "stdout",
     "output_type": "stream",
     "text": [
      "10 dollars\n"
     ]
    }
   ],
   "source": [
    "y = 10\n",
    "print (str(y) + \" dollars\")"
   ]
  },
  {
   "cell_type": "code",
   "execution_count": 12,
   "id": "db391018-a935-45b6-813b-de56e7220247",
   "metadata": {},
   "outputs": [
    {
     "data": {
      "text/plain": [
       "\"I'm fine\""
      ]
     },
     "execution_count": 12,
     "metadata": {},
     "output_type": "execute_result"
    }
   ],
   "source": [
    "\"I'm fine\""
   ]
  },
  {
   "cell_type": "code",
   "execution_count": 14,
   "id": "21c8e3d5-7b30-42a2-b5ab-acc5f5cf5f41",
   "metadata": {},
   "outputs": [
    {
     "name": "stdout",
     "output_type": "stream",
     "text": [
      "red  car\n"
     ]
    }
   ],
   "source": [
    "print('red', ' car')"
   ]
  },
  {
   "cell_type": "code",
   "execution_count": 16,
   "id": "f69fd20e-3470-416d-8750-31f69fad3eb0",
   "metadata": {},
   "outputs": [
    {
     "name": "stdout",
     "output_type": "stream",
     "text": [
      "3 5\n"
     ]
    }
   ],
   "source": [
    "print(3,5)"
   ]
  },
  {
   "cell_type": "code",
   "execution_count": 18,
   "id": "fd403a79-4d6e-4026-a7f3-36adf7abf6d2",
   "metadata": {},
   "outputs": [
    {
     "name": "stdout",
     "output_type": "stream",
     "text": [
      "100 days\n"
     ]
    }
   ],
   "source": [
    " m = 100\n",
    "print(str(m) + \" days\")"
   ]
  },
  {
   "cell_type": "code",
   "execution_count": 20,
   "id": "348c11fa-dd65-4766-b3f6-b9e8d5ea1c09",
   "metadata": {},
   "outputs": [
    {
     "name": "stdout",
     "output_type": "stream",
     "text": [
      "this is cool isn't it\n"
     ]
    }
   ],
   "source": [
    "print(\"this is cool isn't it\")"
   ]
  },
  {
   "cell_type": "code",
   "execution_count": 22,
   "id": "aa1fef35-624c-4d47-95ed-9a3966a2c951",
   "metadata": {},
   "outputs": [
    {
     "data": {
      "text/plain": [
       "'dont be shy'"
      ]
     },
     "execution_count": 22,
     "metadata": {},
     "output_type": "execute_result"
    }
   ],
   "source": [
    "'dont be shy'"
   ]
  },
  {
   "cell_type": "code",
   "execution_count": 26,
   "id": "a55dc1b1-efe1-4839-8f57-687e55cc6e43",
   "metadata": {},
   "outputs": [
    {
     "name": "stdout",
     "output_type": "stream",
     "text": [
      "click \"ok\"\n"
     ]
    }
   ],
   "source": [
    "print(\"click \\\"ok\\\"\")"
   ]
  },
  {
   "cell_type": "code",
   "execution_count": 28,
   "id": "a22c7ac6-fd3f-43c9-8c1b-bf14bdf877c2",
   "metadata": {},
   "outputs": [
    {
     "name": "stdout",
     "output_type": "stream",
     "text": [
      "big  houses\n"
     ]
    }
   ],
   "source": [
    "print('big', ' houses')"
   ]
  },
  {
   "cell_type": "code",
   "execution_count": 30,
   "id": "12f8ad3f-4115-4c32-aa25-fa7f74fff53b",
   "metadata": {},
   "outputs": [
    {
     "data": {
      "text/plain": [
       "3"
      ]
     },
     "execution_count": 30,
     "metadata": {},
     "output_type": "execute_result"
    }
   ],
   "source": [
    "1+2"
   ]
  },
  {
   "cell_type": "code",
   "execution_count": 32,
   "id": "9fa5ba7f-4932-4169-9e3f-0b7af24e90d3",
   "metadata": {},
   "outputs": [
    {
     "data": {
      "text/plain": [
       "-2"
      ]
     },
     "execution_count": 32,
     "metadata": {},
     "output_type": "execute_result"
    }
   ],
   "source": [
    "3-5"
   ]
  },
  {
   "cell_type": "code",
   "execution_count": 34,
   "id": "33bf173f-9714-4d3b-8c32-7bf6c4084141",
   "metadata": {},
   "outputs": [
    {
     "data": {
      "text/plain": [
       "5.333333333333333"
      ]
     },
     "execution_count": 34,
     "metadata": {},
     "output_type": "execute_result"
    }
   ],
   "source": [
    "16/3"
   ]
  },
  {
   "cell_type": "code",
   "execution_count": 36,
   "id": "b7c3be99-db91-4abe-b975-b49d0a157a76",
   "metadata": {},
   "outputs": [
    {
     "data": {
      "text/plain": [
       "1"
      ]
     },
     "execution_count": 36,
     "metadata": {},
     "output_type": "execute_result"
    }
   ],
   "source": [
    "16%3"
   ]
  },
  {
   "cell_type": "code",
   "execution_count": 43,
   "id": "9ff2b2de-acf4-4a39-8df1-d8d15674468a",
   "metadata": {},
   "outputs": [
    {
     "data": {
      "text/plain": [
       "15"
      ]
     },
     "execution_count": 43,
     "metadata": {},
     "output_type": "execute_result"
    }
   ],
   "source": [
    " x =  5*3\n",
    "x"
   ]
  },
  {
   "cell_type": "code",
   "execution_count": 45,
   "id": "e2d7256c-c367-4e9b-aac3-f39958a6fca9",
   "metadata": {},
   "outputs": [
    {
     "data": {
      "text/plain": [
       "25"
      ]
     },
     "execution_count": 45,
     "metadata": {},
     "output_type": "execute_result"
    }
   ],
   "source": [
    "5**2"
   ]
  },
  {
   "cell_type": "code",
   "execution_count": 47,
   "id": "557ccf5a-8432-4991-b9f2-5efe6b031cc8",
   "metadata": {},
   "outputs": [
    {
     "data": {
      "text/plain": [
       "345"
      ]
     },
     "execution_count": 47,
     "metadata": {},
     "output_type": "execute_result"
    }
   ],
   "source": [
    "15 *23"
   ]
  },
  {
   "cell_type": "code",
   "execution_count": 49,
   "id": "8582ff04-78a7-4726-820e-d1da08237b5f",
   "metadata": {},
   "outputs": [
    {
     "data": {
      "text/plain": [
       "-24"
      ]
     },
     "execution_count": 49,
     "metadata": {},
     "output_type": "execute_result"
    }
   ],
   "source": [
    "26-50"
   ]
  },
  {
   "cell_type": "code",
   "execution_count": 51,
   "id": "4dfda215-be60-4738-8c8b-177743df0f7b",
   "metadata": {},
   "outputs": [
    {
     "data": {
      "text/plain": [
       "5.0"
      ]
     },
     "execution_count": 51,
     "metadata": {},
     "output_type": "execute_result"
    }
   ],
   "source": [
    "20/4"
   ]
  },
  {
   "cell_type": "code",
   "execution_count": 53,
   "id": "1a9c82ae-34e1-4efb-a9c9-907be8cabff9",
   "metadata": {},
   "outputs": [
    {
     "data": {
      "text/plain": [
       "5.5"
      ]
     },
     "execution_count": 53,
     "metadata": {},
     "output_type": "execute_result"
    }
   ],
   "source": [
    "22/4"
   ]
  },
  {
   "cell_type": "code",
   "execution_count": 55,
   "id": "d6b05c86-9375-4313-bb55-24ea41e277bf",
   "metadata": {},
   "outputs": [
    {
     "data": {
      "text/plain": [
       "2"
      ]
     },
     "execution_count": 55,
     "metadata": {},
     "output_type": "execute_result"
    }
   ],
   "source": [
    "22%4"
   ]
  },
  {
   "cell_type": "code",
   "execution_count": 57,
   "id": "b3947d50-017c-461c-b17c-60424a9ecaab",
   "metadata": {},
   "outputs": [
    {
     "data": {
      "text/plain": [
       "5.5"
      ]
     },
     "execution_count": 57,
     "metadata": {},
     "output_type": "execute_result"
    }
   ],
   "source": [
    "22.0/4"
   ]
  },
  {
   "cell_type": "code",
   "execution_count": 59,
   "id": "5e5e289d-c693-4510-8668-2d8ee957c61e",
   "metadata": {},
   "outputs": [
    {
     "data": {
      "text/plain": [
       "48"
      ]
     },
     "execution_count": 59,
     "metadata": {},
     "output_type": "execute_result"
    }
   ],
   "source": [
    "6*8"
   ]
  },
  {
   "cell_type": "code",
   "execution_count": 61,
   "id": "4cbad976-d700-47e3-95d6-5fabee6203c5",
   "metadata": {},
   "outputs": [
    {
     "data": {
      "text/plain": [
       "225"
      ]
     },
     "execution_count": 61,
     "metadata": {},
     "output_type": "execute_result"
    }
   ],
   "source": [
    "15 ** 2\n"
   ]
  },
  {
   "cell_type": "code",
   "execution_count": 65,
   "id": "c1cae3cc-bc41-4d2e-9c61-6b13cba531b8",
   "metadata": {},
   "outputs": [
    {
     "data": {
      "text/plain": [
       "125"
      ]
     },
     "execution_count": 65,
     "metadata": {},
     "output_type": "execute_result"
    }
   ],
   "source": [
    "y = 5 ** 3\n",
    "y"
   ]
  },
  {
   "cell_type": "code",
   "execution_count": 67,
   "id": "d8105ea5-442d-4017-9f33-0e5817b92859",
   "metadata": {},
   "outputs": [
    {
     "data": {
      "text/plain": [
       "True"
      ]
     },
     "execution_count": 67,
     "metadata": {},
     "output_type": "execute_result"
    }
   ],
   "source": [
    "y == 125"
   ]
  },
  {
   "cell_type": "code",
   "execution_count": 69,
   "id": "9838790b-5a92-484d-af66-fe4bfa3b3de4",
   "metadata": {},
   "outputs": [
    {
     "data": {
      "text/plain": [
       "False"
      ]
     },
     "execution_count": 69,
     "metadata": {},
     "output_type": "execute_result"
    }
   ],
   "source": [
    "y == 126"
   ]
  },
  {
   "cell_type": "code",
   "execution_count": 71,
   "id": "e3f07a88-de31-4c0a-8686-344f1c936736",
   "metadata": {},
   "outputs": [
    {
     "name": "stdout",
     "output_type": "stream",
     "text": [
      "125\n"
     ]
    }
   ],
   "source": [
    "print(y)"
   ]
  },
  {
   "cell_type": "code",
   "execution_count": 73,
   "id": "5e6adbce-ef56-40ed-aea7-0681612dbf3a",
   "metadata": {},
   "outputs": [
    {
     "data": {
      "text/plain": [
       "150"
      ]
     },
     "execution_count": 73,
     "metadata": {},
     "output_type": "execute_result"
    }
   ],
   "source": [
    "y = 150\n",
    "y"
   ]
  },
  {
   "cell_type": "code",
   "execution_count": 75,
   "id": "566e00da-283a-42f6-9385-c74b16258058",
   "metadata": {},
   "outputs": [
    {
     "data": {
      "text/plain": [
       "False"
      ]
     },
     "execution_count": 75,
     "metadata": {},
     "output_type": "execute_result"
    }
   ],
   "source": [
    "100 == 98"
   ]
  },
  {
   "cell_type": "code",
   "execution_count": 79,
   "id": "8b280dd6-0489-41f8-a397-99e04ab6469c",
   "metadata": {},
   "outputs": [
    {
     "name": "stdout",
     "output_type": "stream",
     "text": [
      "1\n"
     ]
    },
    {
     "data": {
      "text/plain": [
       "3"
      ]
     },
     "execution_count": 79,
     "metadata": {},
     "output_type": "execute_result"
    }
   ],
   "source": [
    "z =1 \n",
    "print(z)\n",
    "z = 3\n",
    "z"
   ]
  },
  {
   "cell_type": "code",
   "execution_count": 81,
   "id": "19a636cd-3bca-4438-9327-e0f6a110bbf2",
   "metadata": {},
   "outputs": [
    {
     "data": {
      "text/plain": [
       "8"
      ]
     },
     "execution_count": 81,
     "metadata": {},
     "output_type": "execute_result"
    }
   ],
   "source": [
    "z+5"
   ]
  },
  {
   "cell_type": "code",
   "execution_count": 85,
   "id": "da3d3254-f1b4-403b-81c0-4bdd1e84b856",
   "metadata": {},
   "outputs": [
    {
     "data": {
      "text/plain": [
       "14"
      ]
     },
     "execution_count": 85,
     "metadata": {},
     "output_type": "execute_result"
    }
   ],
   "source": [
    "p=14\n",
    "p"
   ]
  },
  {
   "cell_type": "code",
   "execution_count": 89,
   "id": "38cafb67-a06d-463f-b108-63fd062db19e",
   "metadata": {},
   "outputs": [
    {
     "name": "stdout",
     "output_type": "stream",
     "text": [
      "24\n"
     ]
    }
   ],
   "source": [
    "print(p +10)\n"
   ]
  },
  {
   "cell_type": "code",
   "execution_count": 91,
   "id": "81791ebb-ee5e-44a0-bd1f-1769c8f46cbd",
   "metadata": {},
   "outputs": [
    {
     "data": {
      "text/plain": [
       "30"
      ]
     },
     "execution_count": 91,
     "metadata": {},
     "output_type": "execute_result"
    }
   ],
   "source": [
    "p = 30\n",
    "p"
   ]
  },
  {
   "cell_type": "code",
   "execution_count": 95,
   "id": "f74f4c1a-afad-40e3-bb45-f27c3624c0d6",
   "metadata": {},
   "outputs": [
    {
     "data": {
      "text/plain": [
       "40"
      ]
     },
     "execution_count": 95,
     "metadata": {},
     "output_type": "execute_result"
    }
   ],
   "source": [
    "p=p+10\n",
    "p"
   ]
  },
  {
   "cell_type": "code",
   "execution_count": 101,
   "id": "bd62d22e-4b3b-448c-943c-ed2f4f84266f",
   "metadata": {},
   "outputs": [
    {
     "name": "stdout",
     "output_type": "stream",
     "text": [
      "7 5\n"
     ]
    }
   ],
   "source": [
    "#comment no code\n",
    "print(7,5)"
   ]
  },
  {
   "cell_type": "code",
   "execution_count": 109,
   "id": "3379e7be-9d24-44ea-adbd-2a77bb4cabc5",
   "metadata": {},
   "outputs": [
    {
     "data": {
      "text/plain": [
       "8.0"
      ]
     },
     "execution_count": 109,
     "metadata": {},
     "output_type": "execute_result"
    }
   ],
   "source": [
    "2.0 * 1.5 + \\\n",
    "5\n"
   ]
  },
  {
   "cell_type": "code",
   "execution_count": 111,
   "id": "be86e9dc-555c-4dca-9282-205be59dd3c9",
   "metadata": {},
   "outputs": [
    {
     "data": {
      "text/plain": [
       "20"
      ]
     },
     "execution_count": 111,
     "metadata": {},
     "output_type": "execute_result"
    }
   ],
   "source": [
    "15 + 31\\\n",
    "-26"
   ]
  },
  {
   "cell_type": "code",
   "execution_count": 117,
   "id": "d2b0da2c-dff8-4c0e-b94b-5a53156ed9a1",
   "metadata": {},
   "outputs": [
    {
     "data": {
      "text/plain": [
       "'d'"
      ]
     },
     "execution_count": 117,
     "metadata": {},
     "output_type": "execute_result"
    }
   ],
   "source": [
    "\"friday\"[3]"
   ]
  },
  {
   "cell_type": "code",
   "execution_count": 120,
   "id": "94de03f5-f71c-452f-8d7f-b5d22b63a874",
   "metadata": {},
   "outputs": [
    {
     "data": {
      "text/plain": [
       "'b'"
      ]
     },
     "execution_count": 120,
     "metadata": {},
     "output_type": "execute_result"
    }
   ],
   "source": [
    "\"bingo\"[0]"
   ]
  },
  {
   "cell_type": "code",
   "execution_count": 124,
   "id": "8d5c25c1-12b4-4bcc-8abc-f6ddf3c71a6f",
   "metadata": {},
   "outputs": [
    {
     "data": {
      "text/plain": [
       "'u'"
      ]
     },
     "execution_count": 124,
     "metadata": {},
     "output_type": "execute_result"
    }
   ],
   "source": [
    "\"constitution\"[7]"
   ]
  },
  {
   "cell_type": "code",
   "execution_count": 128,
   "id": "3928cda2-971d-4431-aaf6-1a6130fc01ae",
   "metadata": {},
   "outputs": [
    {
     "name": "stdout",
     "output_type": "stream",
     "text": [
      "5\n"
     ]
    }
   ],
   "source": [
    "def five(x):\n",
    "    x = 5\n",
    "    return x\n",
    "x = 2\n",
    "print(five(x))"
   ]
  },
  {
   "cell_type": "code",
   "execution_count": 130,
   "id": "55d89ee8-491d-4d5d-9aad-be2040b601ec",
   "metadata": {},
   "outputs": [
    {
     "name": "stdout",
     "output_type": "stream",
     "text": [
      "10\n"
     ]
    }
   ],
   "source": [
    "def ten(x):\n",
    "    x = 10\n",
    "    return x\n",
    "x = 6\n",
    "print(ten(x))"
   ]
  },
  {
   "cell_type": "code",
   "execution_count": null,
   "id": "a6e64b19-0b92-44f8-b2c6-d34096774ce0",
   "metadata": {},
   "outputs": [],
   "source": []
  }
 ],
 "metadata": {
  "kernelspec": {
   "display_name": "Python [conda env:base] *",
   "language": "python",
   "name": "conda-base-py"
  },
  "language_info": {
   "codemirror_mode": {
    "name": "ipython",
    "version": 3
   },
   "file_extension": ".py",
   "mimetype": "text/x-python",
   "name": "python",
   "nbconvert_exporter": "python",
   "pygments_lexer": "ipython3",
   "version": "3.12.7"
  }
 },
 "nbformat": 4,
 "nbformat_minor": 5
}
