{
 "cells": [
  {
   "cell_type": "code",
   "execution_count": 15,
   "id": "4668a0f6-2752-4b68-9087-931e79220fe6",
   "metadata": {},
   "outputs": [],
   "source": [
    "def add_10(m):\n",
    "    if m >= 100:\n",
    "        m = m + 10\n",
    "        return m\n",
    "    else:\n",
    "        return \"save more\"\n",
    "        \n",
    "        "
   ]
  },
  {
   "cell_type": "code",
   "execution_count": 17,
   "id": "08bc17f5-b942-47bd-8da0-a30c6421433a",
   "metadata": {},
   "outputs": [
    {
     "data": {
      "text/plain": [
       "120"
      ]
     },
     "execution_count": 17,
     "metadata": {},
     "output_type": "execute_result"
    }
   ],
   "source": [
    "add_10(110)"
   ]
  },
  {
   "cell_type": "code",
   "execution_count": 19,
   "id": "9e3cbeac-be51-43c0-886a-db57bce6ec80",
   "metadata": {},
   "outputs": [
    {
     "data": {
      "text/plain": [
       "'save more'"
      ]
     },
     "execution_count": 19,
     "metadata": {},
     "output_type": "execute_result"
    }
   ],
   "source": [
    "add_10(50)"
   ]
  },
  {
   "cell_type": "code",
   "execution_count": 21,
   "id": "24a9f48f-1c8c-4cc8-99b5-35e4b6b9bbc6",
   "metadata": {},
   "outputs": [],
   "source": [
    "def compare_two(x,y):\n",
    "    if x > y:\n",
    "        print('greater')\n",
    "    elif y > x:\n",
    "        print('less than')\n",
    "    else:\n",
    "        print('equal')"
   ]
  },
  {
   "cell_type": "code",
   "execution_count": 23,
   "id": "1d63d287-a67b-4a30-9fdc-a9d926f7ae3f",
   "metadata": {},
   "outputs": [
    {
     "name": "stdout",
     "output_type": "stream",
     "text": [
      "less than\n"
     ]
    }
   ],
   "source": [
    "compare_two(10, 12)\n"
   ]
  },
  {
   "cell_type": "code",
   "execution_count": 25,
   "id": "655dea29-55c1-4e90-89fe-2d58966e5c1b",
   "metadata": {},
   "outputs": [],
   "source": [
    "def subtract_bc(a,b,c):\n",
    "    result = a - b*c\n",
    "    print(\"param a: \", a)\n",
    "    print(\"param b: \", b)\n",
    "    print(\"param c: \", c)\n",
    "    return result"
   ]
  },
  {
   "cell_type": "code",
   "execution_count": 27,
   "id": "71e7cb0a-3680-4b47-9aec-01e053e51a87",
   "metadata": {},
   "outputs": [
    {
     "name": "stdout",
     "output_type": "stream",
     "text": [
      "param a:  10\n",
      "param b:  3\n",
      "param c:  2\n"
     ]
    },
    {
     "data": {
      "text/plain": [
       "4"
      ]
     },
     "execution_count": 27,
     "metadata": {},
     "output_type": "execute_result"
    }
   ],
   "source": [
    "subtract_bc(10,3,2)"
   ]
  },
  {
   "cell_type": "code",
   "execution_count": 29,
   "id": "522113c9-bea4-4a70-903f-2da2fbb5de07",
   "metadata": {},
   "outputs": [
    {
     "name": "stdout",
     "output_type": "stream",
     "text": [
      "param a:  15\n",
      "param b:  6\n",
      "param c:  2\n"
     ]
    },
    {
     "data": {
      "text/plain": [
       "3"
      ]
     },
     "execution_count": 29,
     "metadata": {},
     "output_type": "execute_result"
    }
   ],
   "source": [
    "subtract_bc(b=6, a=15, c=2)"
   ]
  },
  {
   "cell_type": "code",
   "execution_count": 31,
   "id": "85acea45-6480-4629-9e31-c280a2ef3837",
   "metadata": {},
   "outputs": [
    {
     "data": {
      "text/plain": [
       "int"
      ]
     },
     "execution_count": 31,
     "metadata": {},
     "output_type": "execute_result"
    }
   ],
   "source": [
    "type(10)"
   ]
  },
  {
   "cell_type": "code",
   "execution_count": 33,
   "id": "f40558f4-d6b7-4a30-96d3-e875458f4a7b",
   "metadata": {},
   "outputs": [
    {
     "data": {
      "text/plain": [
       "5"
      ]
     },
     "execution_count": 33,
     "metadata": {},
     "output_type": "execute_result"
    }
   ],
   "source": [
    "int(5.0)"
   ]
  },
  {
   "cell_type": "code",
   "execution_count": 35,
   "id": "3ae315b3-3e6f-446b-95b2-7ebd4342f5ac",
   "metadata": {},
   "outputs": [
    {
     "data": {
      "text/plain": [
       "3.0"
      ]
     },
     "execution_count": 35,
     "metadata": {},
     "output_type": "execute_result"
    }
   ],
   "source": [
    "float(3)"
   ]
  },
  {
   "cell_type": "code",
   "execution_count": 37,
   "id": "85874f28-9207-4cfc-8348-9c21d23d1d0f",
   "metadata": {},
   "outputs": [
    {
     "data": {
      "text/plain": [
       "'500'"
      ]
     },
     "execution_count": 37,
     "metadata": {},
     "output_type": "execute_result"
    }
   ],
   "source": [
    "str(500)"
   ]
  },
  {
   "cell_type": "code",
   "execution_count": 39,
   "id": "72c5a8ef-42ae-40e9-8ab1-1df1d6938851",
   "metadata": {},
   "outputs": [
    {
     "data": {
      "text/plain": [
       "30"
      ]
     },
     "execution_count": 39,
     "metadata": {},
     "output_type": "execute_result"
    }
   ],
   "source": [
    "max(10,20,30)"
   ]
  },
  {
   "cell_type": "code",
   "execution_count": 41,
   "id": "456d55c4-d1c1-4d6f-90ae-293dff5c4e5d",
   "metadata": {},
   "outputs": [
    {
     "data": {
      "text/plain": [
       "10"
      ]
     },
     "execution_count": 41,
     "metadata": {},
     "output_type": "execute_result"
    }
   ],
   "source": [
    "min(10,20,30)"
   ]
  },
  {
   "cell_type": "code",
   "execution_count": 43,
   "id": "833ad130-e065-4c60-a989-d9be2cba8d57",
   "metadata": {},
   "outputs": [
    {
     "data": {
      "text/plain": [
       "20"
      ]
     },
     "execution_count": 43,
     "metadata": {},
     "output_type": "execute_result"
    }
   ],
   "source": [
    "z = -20\n",
    "abs(z)"
   ]
  },
  {
   "cell_type": "code",
   "execution_count": 45,
   "id": "5e47eb26-5d8e-4b24-a27d-99acd4ed30a3",
   "metadata": {},
   "outputs": [],
   "source": [
    "list_1 = [1,2,3,4]"
   ]
  },
  {
   "cell_type": "code",
   "execution_count": 47,
   "id": "dece05b8-3d69-4d90-b43f-60a318479bca",
   "metadata": {},
   "outputs": [
    {
     "data": {
      "text/plain": [
       "10"
      ]
     },
     "execution_count": 47,
     "metadata": {},
     "output_type": "execute_result"
    }
   ],
   "source": [
    "sum(list_1)"
   ]
  },
  {
   "cell_type": "code",
   "execution_count": 49,
   "id": "65897159-aecb-4435-afdb-9f265c2f268a",
   "metadata": {},
   "outputs": [
    {
     "data": {
      "text/plain": [
       "3.56"
      ]
     },
     "execution_count": 49,
     "metadata": {},
     "output_type": "execute_result"
    }
   ],
   "source": [
    "round(3.55555,2)"
   ]
  },
  {
   "cell_type": "code",
   "execution_count": 51,
   "id": "d0df3f02-460c-42f0-b534-f01a76e894f9",
   "metadata": {},
   "outputs": [
    {
     "data": {
      "text/plain": [
       "3"
      ]
     },
     "execution_count": 51,
     "metadata": {},
     "output_type": "execute_result"
    }
   ],
   "source": [
    "round(3.2)"
   ]
  },
  {
   "cell_type": "code",
   "execution_count": 53,
   "id": "74b34114-a815-4193-89f1-46815456ad9a",
   "metadata": {},
   "outputs": [
    {
     "data": {
      "text/plain": [
       "1024"
      ]
     },
     "execution_count": 53,
     "metadata": {},
     "output_type": "execute_result"
    }
   ],
   "source": [
    "2 ** 10"
   ]
  },
  {
   "cell_type": "code",
   "execution_count": 55,
   "id": "346c78bc-0e11-49c1-af46-359fe14dfa81",
   "metadata": {},
   "outputs": [
    {
     "data": {
      "text/plain": [
       "1024"
      ]
     },
     "execution_count": 55,
     "metadata": {},
     "output_type": "execute_result"
    }
   ],
   "source": [
    "pow(2,10)"
   ]
  },
  {
   "cell_type": "code",
   "execution_count": 57,
   "id": "0c1118e7-1a0a-4758-a07d-5ad4e2968e83",
   "metadata": {},
   "outputs": [
    {
     "data": {
      "text/plain": [
       "1024"
      ]
     },
     "execution_count": 57,
     "metadata": {},
     "output_type": "execute_result"
    }
   ],
   "source": [
    "pow(2,10)"
   ]
  },
  {
   "cell_type": "code",
   "execution_count": 59,
   "id": "647d4657-94c7-4caf-83c0-d6cea29cb30f",
   "metadata": {},
   "outputs": [
    {
     "data": {
      "text/plain": [
       "11"
      ]
     },
     "execution_count": 59,
     "metadata": {},
     "output_type": "execute_result"
    }
   ],
   "source": [
    "len(\"mathematics\")"
   ]
  },
  {
   "cell_type": "code",
   "execution_count": 61,
   "id": "51cf47b5-30fc-427b-a752-6c28d4f4f7dd",
   "metadata": {},
   "outputs": [
    {
     "data": {
      "text/plain": [
       "890"
      ]
     },
     "execution_count": 61,
     "metadata": {},
     "output_type": "execute_result"
    }
   ],
   "source": [
    "max(25,65, 890, 15)"
   ]
  },
  {
   "cell_type": "code",
   "execution_count": 63,
   "id": "55170e6d-d724-4e45-ba20-af170532c4d3",
   "metadata": {},
   "outputs": [
    {
     "data": {
      "text/plain": [
       "15"
      ]
     },
     "execution_count": 63,
     "metadata": {},
     "output_type": "execute_result"
    }
   ],
   "source": [
    "min( 25,65,890,15)"
   ]
  },
  {
   "cell_type": "code",
   "execution_count": 65,
   "id": "92e6216f-2741-426d-b178-33edd3b537d9",
   "metadata": {},
   "outputs": [
    {
     "data": {
      "text/plain": [
       "100"
      ]
     },
     "execution_count": 65,
     "metadata": {},
     "output_type": "execute_result"
    }
   ],
   "source": [
    "abs(-100)"
   ]
  },
  {
   "cell_type": "code",
   "execution_count": 67,
   "id": "061096cc-69b6-4963-960a-c7aa8bdf3474",
   "metadata": {},
   "outputs": [
    {
     "data": {
      "text/plain": [
       "56"
      ]
     },
     "execution_count": 67,
     "metadata": {},
     "output_type": "execute_result"
    }
   ],
   "source": [
    "round(55.5)\n"
   ]
  },
  {
   "cell_type": "code",
   "execution_count": 69,
   "id": "ebd6528c-a7d1-4d56-807c-8d64e56e6095",
   "metadata": {},
   "outputs": [
    {
     "data": {
      "text/plain": [
       "35.568"
      ]
     },
     "execution_count": 69,
     "metadata": {},
     "output_type": "execute_result"
    }
   ],
   "source": [
    "round(35.56789,3)"
   ]
  },
  {
   "cell_type": "code",
   "execution_count": 71,
   "id": "e52e1ff7-9639-4a5d-bf17-81a7593299c0",
   "metadata": {},
   "outputs": [
    {
     "data": {
      "text/plain": [
       "94.5"
      ]
     },
     "execution_count": 71,
     "metadata": {},
     "output_type": "execute_result"
    }
   ],
   "source": [
    "numbers = [1,5,64,24.5]\n",
    "sum(numbers)"
   ]
  },
  {
   "cell_type": "code",
   "execution_count": 73,
   "id": "5e2b6e8e-74a1-47de-96d7-712663854365",
   "metadata": {},
   "outputs": [
    {
     "data": {
      "text/plain": [
       "1000"
      ]
     },
     "execution_count": 73,
     "metadata": {},
     "output_type": "execute_result"
    }
   ],
   "source": [
    "10**3"
   ]
  },
  {
   "cell_type": "code",
   "execution_count": 75,
   "id": "39484636-f121-4911-954e-3868b1867a46",
   "metadata": {},
   "outputs": [
    {
     "data": {
      "text/plain": [
       "1000"
      ]
     },
     "execution_count": 75,
     "metadata": {},
     "output_type": "execute_result"
    }
   ],
   "source": [
    "pow(10,3)"
   ]
  },
  {
   "cell_type": "code",
   "execution_count": 77,
   "id": "5bb91cb2-1e65-4a5b-96be-e17125737dd8",
   "metadata": {},
   "outputs": [
    {
     "data": {
      "text/plain": [
       "8"
      ]
     },
     "execution_count": 77,
     "metadata": {},
     "output_type": "execute_result"
    }
   ],
   "source": [
    "len(\"elephant\")"
   ]
  },
  {
   "cell_type": "code",
   "execution_count": 79,
   "id": "cee2f09d-f2f2-4cdd-a10c-56b2e9211d3e",
   "metadata": {},
   "outputs": [],
   "source": [
    "def distance_from_zero(x):\n",
    "    if type(x) != int and type(x) != float:\n",
    "        print(\"not possible\")\n",
    "    else:\n",
    "        print(abs(x))\n",
    "        "
   ]
  },
  {
   "cell_type": "code",
   "execution_count": 81,
   "id": "75883f2c-282a-4e8a-a92f-4f7558faecf4",
   "metadata": {},
   "outputs": [
    {
     "name": "stdout",
     "output_type": "stream",
     "text": [
      "59\n"
     ]
    }
   ],
   "source": [
    "distance_from_zero(-59)"
   ]
  },
  {
   "cell_type": "code",
   "execution_count": 83,
   "id": "9ddc60a9-e0e6-4edd-8f12-1d85d2f9eb11",
   "metadata": {},
   "outputs": [
    {
     "name": "stdout",
     "output_type": "stream",
     "text": [
      "not possible\n"
     ]
    }
   ],
   "source": [
    "distance_from_zero('hi')"
   ]
  },
  {
   "cell_type": "code",
   "execution_count": 85,
   "id": "767f3fc7-9b12-4c9e-9ab3-7b4c798dee2f",
   "metadata": {},
   "outputs": [
    {
     "data": {
      "text/plain": [
       "['john', 'leila', 'gregory', 'cate']"
      ]
     },
     "execution_count": 85,
     "metadata": {},
     "output_type": "execute_result"
    }
   ],
   "source": [
    "participents = [\"john\", 'leila', \"gregory\", 'cate']\n",
    "participents"
   ]
  },
  {
   "cell_type": "code",
   "execution_count": 87,
   "id": "e130ba5d-9987-4520-8fee-3094946c4e50",
   "metadata": {},
   "outputs": [
    {
     "data": {
      "text/plain": [
       "'cate'"
      ]
     },
     "execution_count": 87,
     "metadata": {},
     "output_type": "execute_result"
    }
   ],
   "source": [
    "participents[3]"
   ]
  },
  {
   "cell_type": "code",
   "execution_count": 89,
   "id": "d80c2419-aa4c-4eea-aef6-d319d3cc9476",
   "metadata": {},
   "outputs": [
    {
     "data": {
      "text/plain": [
       "'cate'"
      ]
     },
     "execution_count": 89,
     "metadata": {},
     "output_type": "execute_result"
    }
   ],
   "source": [
    "participents[-1]"
   ]
  },
  {
   "cell_type": "code",
   "execution_count": 91,
   "id": "f6b54686-c0a9-4ec8-ba0f-37246f4ff4ae",
   "metadata": {},
   "outputs": [
    {
     "data": {
      "text/plain": [
       "['john', 'leila', 'gregory', 'maria']"
      ]
     },
     "execution_count": 91,
     "metadata": {},
     "output_type": "execute_result"
    }
   ],
   "source": [
    "participents[3] = 'maria'\n",
    "participents\n"
   ]
  },
  {
   "cell_type": "code",
   "execution_count": 93,
   "id": "b6476082-057c-4948-b73a-f8f0911f2733",
   "metadata": {},
   "outputs": [],
   "source": [
    "del participents[2]"
   ]
  },
  {
   "cell_type": "code",
   "execution_count": 95,
   "id": "24da515c-58f2-4521-abca-99ccb91bd9a3",
   "metadata": {},
   "outputs": [
    {
     "data": {
      "text/plain": [
       "['john', 'leila', 'maria']"
      ]
     },
     "execution_count": 95,
     "metadata": {},
     "output_type": "execute_result"
    }
   ],
   "source": [
    "participents"
   ]
  },
  {
   "cell_type": "code",
   "execution_count": 97,
   "id": "afb3accb-a409-4901-94c9-70c4e2c6a2f0",
   "metadata": {},
   "outputs": [
    {
     "data": {
      "text/plain": [
       "[10, 25, 40, 50]"
      ]
     },
     "execution_count": 97,
     "metadata": {},
     "output_type": "execute_result"
    }
   ],
   "source": [
    "numbers =[10,25,40,50]\n",
    "numbers\n"
   ]
  },
  {
   "cell_type": "code",
   "execution_count": 99,
   "id": "c2781cc0-5c0d-4c5a-b2c4-6b21556d6c44",
   "metadata": {},
   "outputs": [
    {
     "data": {
      "text/plain": [
       "40"
      ]
     },
     "execution_count": 99,
     "metadata": {},
     "output_type": "execute_result"
    }
   ],
   "source": [
    "numbers[2]"
   ]
  },
  {
   "cell_type": "code",
   "execution_count": 101,
   "id": "fc385973-8e71-46b0-8ba6-a8e0a5d80e91",
   "metadata": {},
   "outputs": [
    {
     "data": {
      "text/plain": [
       "10"
      ]
     },
     "execution_count": 101,
     "metadata": {},
     "output_type": "execute_result"
    }
   ],
   "source": [
    "numbers[0]"
   ]
  },
  {
   "cell_type": "code",
   "execution_count": 103,
   "id": "1698d353-cc61-453a-86ae-7df015ddc0e6",
   "metadata": {},
   "outputs": [
    {
     "data": {
      "text/plain": [
       "25"
      ]
     },
     "execution_count": 103,
     "metadata": {},
     "output_type": "execute_result"
    }
   ],
   "source": [
    "numbers[-3]"
   ]
  },
  {
   "cell_type": "code",
   "execution_count": 105,
   "id": "41d63acb-9988-46b0-83a3-141a24c5478a",
   "metadata": {},
   "outputs": [
    {
     "data": {
      "text/plain": [
       "[15, 25, 40, 50]"
      ]
     },
     "execution_count": 105,
     "metadata": {},
     "output_type": "execute_result"
    }
   ],
   "source": [
    "numbers[0]=15\n",
    "numbers"
   ]
  },
  {
   "cell_type": "code",
   "execution_count": 107,
   "id": "e87e7f3c-98a2-4da1-84bf-c37bd4bf65d5",
   "metadata": {},
   "outputs": [],
   "source": [
    "del numbers[1]"
   ]
  },
  {
   "cell_type": "code",
   "execution_count": 109,
   "id": "ed271a62-ffad-40a1-b830-8c9db6e7c5d2",
   "metadata": {},
   "outputs": [
    {
     "data": {
      "text/plain": [
       "[15, 40, 50]"
      ]
     },
     "execution_count": 109,
     "metadata": {},
     "output_type": "execute_result"
    }
   ],
   "source": [
    "numbers"
   ]
  },
  {
   "cell_type": "code",
   "execution_count": 111,
   "id": "3beb6a8d-f61a-4b4d-877b-474a23ef8b94",
   "metadata": {},
   "outputs": [],
   "source": [
    "participents.append(\"dwayne\")"
   ]
  },
  {
   "cell_type": "code",
   "execution_count": 113,
   "id": "e143d93d-9eff-4ff3-a781-c0a76743e32e",
   "metadata": {},
   "outputs": [
    {
     "data": {
      "text/plain": [
       "['john', 'leila', 'maria', 'dwayne']"
      ]
     },
     "execution_count": 113,
     "metadata": {},
     "output_type": "execute_result"
    }
   ],
   "source": [
    "participents"
   ]
  },
  {
   "cell_type": "code",
   "execution_count": 115,
   "id": "15eb0f55-f262-4b50-9131-d59f58e353c0",
   "metadata": {},
   "outputs": [
    {
     "data": {
      "text/plain": [
       "['john', 'leila', 'maria', 'dwayne', 'george', 'catherine']"
      ]
     },
     "execution_count": 115,
     "metadata": {},
     "output_type": "execute_result"
    }
   ],
   "source": [
    "participents.extend([\"george\", \"catherine\"])\n",
    "participents"
   ]
  },
  {
   "cell_type": "code",
   "execution_count": 147,
   "id": "cee68882-d0a2-45b1-91f8-aac1d4fe31c9",
   "metadata": {},
   "outputs": [
    {
     "name": "stdout",
     "output_type": "stream",
     "text": [
      "the first partcipent is john\n"
     ]
    }
   ],
   "source": [
    "print('the first partcipent is ' + participents[0])"
   ]
  },
  {
   "cell_type": "code",
   "execution_count": 119,
   "id": "cd86e8cb-b002-4b69-a0d3-1ac7d8fb6590",
   "metadata": {},
   "outputs": [
    {
     "data": {
      "text/plain": [
       "7"
      ]
     },
     "execution_count": 119,
     "metadata": {},
     "output_type": "execute_result"
    }
   ],
   "source": [
    "len('dolphin')"
   ]
  },
  {
   "cell_type": "code",
   "execution_count": 121,
   "id": "f27455c8-0819-463a-883a-592893511420",
   "metadata": {},
   "outputs": [
    {
     "data": {
      "text/plain": [
       "6"
      ]
     },
     "execution_count": 121,
     "metadata": {},
     "output_type": "execute_result"
    }
   ],
   "source": [
    "len(participents)"
   ]
  },
  {
   "cell_type": "code",
   "execution_count": 123,
   "id": "847c0c61-71f5-4c13-a986-7d7fb40f83c5",
   "metadata": {},
   "outputs": [
    {
     "data": {
      "text/plain": [
       "['john', 'leila', 'maria', 'dwayne', 'george', 'catherine', 100]"
      ]
     },
     "execution_count": 123,
     "metadata": {},
     "output_type": "execute_result"
    }
   ],
   "source": [
    "participents.append(100)\n",
    "participents"
   ]
  },
  {
   "cell_type": "code",
   "execution_count": 125,
   "id": "bee7019e-d0d0-42b0-9431-b5be1bfe9a9e",
   "metadata": {},
   "outputs": [
    {
     "data": {
      "text/plain": [
       "[15, 40, 50, 100]"
      ]
     },
     "execution_count": 125,
     "metadata": {},
     "output_type": "execute_result"
    }
   ],
   "source": [
    "numbers.append(100)\n",
    "numbers"
   ]
  },
  {
   "cell_type": "code",
   "execution_count": 127,
   "id": "a065d1e2-91ec-45f0-a9d6-97605341af48",
   "metadata": {},
   "outputs": [
    {
     "data": {
      "text/plain": [
       "[15, 40, 50, 100, 115, 140]"
      ]
     },
     "execution_count": 127,
     "metadata": {},
     "output_type": "execute_result"
    }
   ],
   "source": [
    "numbers.extend([115, 140])\n",
    "numbers\n"
   ]
  },
  {
   "cell_type": "code",
   "execution_count": 129,
   "id": "c7153cc9-52c0-43be-ac48-346ba80e9955",
   "metadata": {},
   "outputs": [
    {
     "name": "stdout",
     "output_type": "stream",
     "text": [
      "the fourth element in the numbers list is:  100\n"
     ]
    }
   ],
   "source": [
    "print(\"the fourth element in the numbers list is: \", numbers[3])"
   ]
  },
  {
   "cell_type": "code",
   "execution_count": 131,
   "id": "123a9489-5a63-45af-9bc9-eef0a6ccf224",
   "metadata": {},
   "outputs": [
    {
     "data": {
      "text/plain": [
       "6"
      ]
     },
     "execution_count": 131,
     "metadata": {},
     "output_type": "execute_result"
    }
   ],
   "source": [
    "len(numbers)"
   ]
  },
  {
   "cell_type": "code",
   "execution_count": 133,
   "id": "fbe59c84-9dcc-4a1e-9f29-3cef068a2f2d",
   "metadata": {},
   "outputs": [
    {
     "data": {
      "text/plain": [
       "['leila', 'maria']"
      ]
     },
     "execution_count": 133,
     "metadata": {},
     "output_type": "execute_result"
    }
   ],
   "source": [
    "participents[1:3]"
   ]
  },
  {
   "cell_type": "code",
   "execution_count": 135,
   "id": "d1a06de8-fdbb-4e67-ab2c-8638ccf5f663",
   "metadata": {},
   "outputs": [],
   "source": [
    "par = participents[:]\n"
   ]
  },
  {
   "cell_type": "code",
   "execution_count": 149,
   "id": "f07797ec-2ba4-48ed-963c-01f9435ad604",
   "metadata": {},
   "outputs": [
    {
     "data": {
      "text/plain": [
       "['leila', 'maria']"
      ]
     },
     "execution_count": 149,
     "metadata": {},
     "output_type": "execute_result"
    }
   ],
   "source": [
    "par[1:3]\n"
   ]
  },
  {
   "cell_type": "code",
   "execution_count": null,
   "id": "9406a67b-7267-4481-96d7-338d319b93dc",
   "metadata": {},
   "outputs": [],
   "source": []
  },
  {
   "cell_type": "code",
   "execution_count": null,
   "id": "fb4f466e-cbce-483e-b532-2a026f8c776f",
   "metadata": {},
   "outputs": [],
   "source": []
  },
  {
   "cell_type": "code",
   "execution_count": null,
   "id": "280165ef-7513-4be6-92ae-6a0d88b1b62d",
   "metadata": {},
   "outputs": [],
   "source": []
  },
  {
   "cell_type": "code",
   "execution_count": null,
   "id": "09a5fc19-661f-4ee2-bd92-ef159aa38aea",
   "metadata": {},
   "outputs": [],
   "source": []
  },
  {
   "cell_type": "code",
   "execution_count": null,
   "id": "1b1e9950-84bb-42c7-a042-c8fcee667626",
   "metadata": {},
   "outputs": [],
   "source": []
  },
  {
   "cell_type": "code",
   "execution_count": null,
   "id": "41dc9084-63ff-40b7-a36c-200e2b052f82",
   "metadata": {},
   "outputs": [],
   "source": []
  },
  {
   "cell_type": "code",
   "execution_count": null,
   "id": "f8ffaa4d-0513-4969-932e-3e877981afbb",
   "metadata": {},
   "outputs": [],
   "source": []
  },
  {
   "cell_type": "code",
   "execution_count": null,
   "id": "38a13668-1a67-46ed-8608-f76f8f69b108",
   "metadata": {},
   "outputs": [],
   "source": []
  },
  {
   "cell_type": "code",
   "execution_count": null,
   "id": "a4eb8778-067f-4180-8a9c-6ca738c8a2e4",
   "metadata": {},
   "outputs": [],
   "source": []
  },
  {
   "cell_type": "code",
   "execution_count": null,
   "id": "526721f6-b48c-4222-9382-c11c32989b7f",
   "metadata": {},
   "outputs": [],
   "source": []
  }
 ],
 "metadata": {
  "kernelspec": {
   "display_name": "Python [conda env:base] *",
   "language": "python",
   "name": "conda-base-py"
  },
  "language_info": {
   "codemirror_mode": {
    "name": "ipython",
    "version": 3
   },
   "file_extension": ".py",
   "mimetype": "text/x-python",
   "name": "python",
   "nbconvert_exporter": "python",
   "pygments_lexer": "ipython3",
   "version": "3.12.7"
  }
 },
 "nbformat": 4,
 "nbformat_minor": 5
}
