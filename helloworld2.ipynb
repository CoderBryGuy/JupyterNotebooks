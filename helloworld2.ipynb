{
 "cells": [
  {
   "cell_type": "code",
   "execution_count": 2,
   "id": "1a7cef88-6cca-44a9-af82-da3fd2b13edb",
   "metadata": {},
   "outputs": [],
   "source": [
    "x = 5"
   ]
  },
  {
   "cell_type": "code",
   "execution_count": 4,
   "id": "35a61350-d1cf-45ea-aa78-0edb15734354",
   "metadata": {},
   "outputs": [
    {
     "data": {
      "text/plain": [
       "5"
      ]
     },
     "execution_count": 4,
     "metadata": {},
     "output_type": "execute_result"
    }
   ],
   "source": [
    "x"
   ]
  },
  {
   "cell_type": "code",
   "execution_count": 6,
   "id": "6108512d-f279-4a55-ab2d-4a1416e7e6fc",
   "metadata": {},
   "outputs": [],
   "source": [
    "y=8"
   ]
  },
  {
   "cell_type": "code",
   "execution_count": 8,
   "id": "670a1303-ed2b-4292-92e5-e30a1cb6f3a2",
   "metadata": {},
   "outputs": [
    {
     "data": {
      "text/plain": [
       "8"
      ]
     },
     "execution_count": 8,
     "metadata": {},
     "output_type": "execute_result"
    }
   ],
   "source": [
    "y"
   ]
  },
  {
   "cell_type": "code",
   "execution_count": 12,
   "id": "a4cbaff0-4a26-43cc-bfbf-3fa057cb106f",
   "metadata": {},
   "outputs": [
    {
     "data": {
      "text/plain": [
       "(1, 2)"
      ]
     },
     "execution_count": 12,
     "metadata": {},
     "output_type": "execute_result"
    }
   ],
   "source": [
    "x,y=(1,2)\n",
    "x,y"
   ]
  },
  {
   "cell_type": "code",
   "execution_count": 14,
   "id": "14a2c2cb-ecdc-4bda-ad3c-9c0d50bafa7c",
   "metadata": {},
   "outputs": [
    {
     "data": {
      "text/plain": [
       "int"
      ]
     },
     "execution_count": 14,
     "metadata": {},
     "output_type": "execute_result"
    }
   ],
   "source": [
    "x1 = 5\n",
    "type(x1)"
   ]
  },
  {
   "cell_type": "code",
   "execution_count": 16,
   "id": "2b763a37-9742-4db7-8536-1b0fd28d47fd",
   "metadata": {},
   "outputs": [
    {
     "data": {
      "text/plain": [
       "int"
      ]
     },
     "execution_count": 16,
     "metadata": {},
     "output_type": "execute_result"
    }
   ],
   "source": [
    "type(-6)\n"
   ]
  },
  {
   "cell_type": "code",
   "execution_count": 20,
   "id": "f1e93f52-1bc3-42f8-886e-eee2b39d8652",
   "metadata": {},
   "outputs": [
    {
     "data": {
      "text/plain": [
       "float"
      ]
     },
     "execution_count": 20,
     "metadata": {},
     "output_type": "execute_result"
    }
   ],
   "source": [
    "x2 = 4.75\n",
    "type(x2)"
   ]
  },
  {
   "cell_type": "code",
   "execution_count": 22,
   "id": "e2cfe23b-ad1b-4a30-9f21-96580d513e6d",
   "metadata": {},
   "outputs": [
    {
     "data": {
      "text/plain": [
       "4"
      ]
     },
     "execution_count": 22,
     "metadata": {},
     "output_type": "execute_result"
    }
   ],
   "source": [
    "int(x2)\n"
   ]
  },
  {
   "cell_type": "code",
   "execution_count": 24,
   "id": "4a68fecf-2cbd-4d8a-937f-900c819674c3",
   "metadata": {},
   "outputs": [
    {
     "data": {
      "text/plain": [
       "5.0"
      ]
     },
     "execution_count": 24,
     "metadata": {},
     "output_type": "execute_result"
    }
   ],
   "source": [
    "float(5)"
   ]
  },
  {
   "cell_type": "code",
   "execution_count": 28,
   "id": "449009e6-a3e8-47a2-b54a-25a51992d61e",
   "metadata": {},
   "outputs": [
    {
     "data": {
      "text/plain": [
       "bool"
      ]
     },
     "execution_count": 28,
     "metadata": {},
     "output_type": "execute_result"
    }
   ],
   "source": [
    "x3=True\n",
    "type(x3)\n"
   ]
  },
  {
   "cell_type": "code",
   "execution_count": 30,
   "id": "f15ef317-90b0-4939-974a-c10dad76a58a",
   "metadata": {},
   "outputs": [
    {
     "data": {
      "text/plain": [
       "'george'"
      ]
     },
     "execution_count": 30,
     "metadata": {},
     "output_type": "execute_result"
    }
   ],
   "source": [
    "'george'"
   ]
  },
  {
   "cell_type": "code",
   "execution_count": 32,
   "id": "7d53a37b-bae0-4f30-ab8e-7bb129b01da6",
   "metadata": {},
   "outputs": [
    {
     "data": {
      "text/plain": [
       "'george'"
      ]
     },
     "execution_count": 32,
     "metadata": {},
     "output_type": "execute_result"
    }
   ],
   "source": [
    "\"george\""
   ]
  },
  {
   "cell_type": "code",
   "execution_count": null,
   "id": "4d4492e8-0969-4124-ab7e-4f3c6c837c67",
   "metadata": {},
   "outputs": [],
   "source": []
  },
  {
   "cell_type": "code",
   "execution_count": null,
   "id": "fc1ae796-b37d-499b-9b55-82a11d038e50",
   "metadata": {},
   "outputs": [],
   "source": []
  }
 ],
 "metadata": {
  "kernelspec": {
   "display_name": "Python [conda env:base] *",
   "language": "python",
   "name": "conda-base-py"
  },
  "language_info": {
   "codemirror_mode": {
    "name": "ipython",
    "version": 3
   },
   "file_extension": ".py",
   "mimetype": "text/x-python",
   "name": "python",
   "nbconvert_exporter": "python",
   "pygments_lexer": "ipython3",
   "version": "3.12.7"
  }
 },
 "nbformat": 4,
 "nbformat_minor": 5
}
