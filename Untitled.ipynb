{
 "cells": [
  {
   "cell_type": "code",
   "execution_count": 18,
   "id": "4137af30-4f2f-44c6-906f-677affb2f8fd",
   "metadata": {},
   "outputs": [
    {
     "data": {
      "text/plain": [
       "100"
      ]
     },
     "execution_count": 18,
     "metadata": {},
     "output_type": "execute_result"
    }
   ],
   "source": [
    "z\n"
   ]
  },
  {
   "cell_type": "code",
   "execution_count": null,
   "id": "2ab8aef8-2d39-4209-b04c-f3e99fb9562a",
   "metadata": {},
   "outputs": [],
   "source": []
  },
  {
   "cell_type": "code",
   "execution_count": 14,
   "id": "6205c7af-fd11-431f-a182-90288517e343",
   "metadata": {},
   "outputs": [
    {
     "data": {
      "text/plain": [
       "[1, 2, 3, 4]"
      ]
     },
     "execution_count": 14,
     "metadata": {},
     "output_type": "execute_result"
    }
   ],
   "source": [
    "x = [1,2,3,4]\n",
    "x"
   ]
  },
  {
   "cell_type": "code",
   "execution_count": 16,
   "id": "39437d8a-5e64-45bd-ae04-3afc4cd61aec",
   "metadata": {},
   "outputs": [],
   "source": [
    "z=100\n"
   ]
  },
  {
   "cell_type": "code",
   "execution_count": null,
   "id": "4d91cd80-1c26-4274-b1b5-b84761d4bf30",
   "metadata": {},
   "outputs": [],
   "source": []
  },
  {
   "cell_type": "markdown",
   "id": "647a6028-9fe6-4f49-b094-84023b577c96",
   "metadata": {},
   "source": [
    "x=1000"
   ]
  },
  {
   "cell_type": "code",
   "execution_count": null,
   "id": "ce5070c3-bd88-4bb9-8a20-6598a505fdd8",
   "metadata": {},
   "outputs": [],
   "source": []
  }
 ],
 "metadata": {
  "kernelspec": {
   "display_name": "Python [conda env:base] *",
   "language": "python",
   "name": "conda-base-py"
  },
  "language_info": {
   "codemirror_mode": {
    "name": "ipython",
    "version": 3
   },
   "file_extension": ".py",
   "mimetype": "text/x-python",
   "name": "python",
   "nbconvert_exporter": "python",
   "pygments_lexer": "ipython3",
   "version": "3.12.7"
  }
 },
 "nbformat": 4,
 "nbformat_minor": 5
}
