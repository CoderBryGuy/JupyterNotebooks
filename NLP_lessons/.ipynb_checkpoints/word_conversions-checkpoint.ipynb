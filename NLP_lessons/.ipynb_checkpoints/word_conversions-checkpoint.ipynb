{
 "cells": [
  {
   "cell_type": "code",
   "execution_count": 1,
   "id": "8021b7f9-843f-473a-ad79-5a72bcfbc998",
   "metadata": {},
   "outputs": [
    {
     "name": "stdout",
     "output_type": "stream",
     "text": [
      "her cat's name is luna\n"
     ]
    }
   ],
   "source": [
    "sentence  = \"Her cat's name is Luna\"\n",
    "lower_sentence = sentence.lower()\n",
    "print(lower_sentence)"
   ]
  },
  {
   "cell_type": "code",
   "execution_count": 5,
   "id": "760973ad-1cef-474f-a7cf-31d59a09f821",
   "metadata": {},
   "outputs": [
    {
     "name": "stdout",
     "output_type": "stream",
     "text": [
      "['could you pass me the tv remote?', 'it is impossible to find this hotel', 'want to go for dinner on tuesday?']\n"
     ]
    }
   ],
   "source": [
    "sentence_list = ['Could you pass me the TV remote?',\n",
    "                 'It is IMPOSSIBLE to find this hotel',\n",
    "                 'Want to go for dinner on Tuesday?']\n",
    "\n",
    "lower_sentence_list = [x.lower() for x in sentence_list]\n",
    "print(lower_sentence_list)\n"
   ]
  },
  {
   "cell_type": "code",
   "execution_count": 18,
   "id": "1fb4b093-5cbb-46a7-a699-2b2ad9e54782",
   "metadata": {},
   "outputs": [
    {
     "name": "stderr",
     "output_type": "stream",
     "text": [
      "[nltk_data] Downloading package stopwords to /home/bryan/nltk_data...\n",
      "[nltk_data]   Unzipping corpora/stopwords.zip.\n"
     ]
    },
    {
     "data": {
      "text/plain": [
       "True"
      ]
     },
     "execution_count": 18,
     "metadata": {},
     "output_type": "execute_result"
    }
   ],
   "source": [
    "import nltk\n",
    "nltk.download('stopwords')"
   ]
  },
  {
   "cell_type": "code",
   "execution_count": 20,
   "id": "2b10cb14-6ba9-42e6-afe5-e6f3e2992401",
   "metadata": {},
   "outputs": [],
   "source": [
    "from nltk.corpus import stopwords"
   ]
  },
  {
   "cell_type": "code",
   "execution_count": 22,
   "id": "c181ae3d-3e1a-4963-8f2e-3463d8bd6af7",
   "metadata": {},
   "outputs": [],
   "source": [
    "en_stopwords = stopwords.words"
   ]
  },
  {
   "cell_type": "code",
   "execution_count": null,
   "id": "60743e3d-ab3b-425c-97a5-d2ba3b604ab0",
   "metadata": {},
   "outputs": [],
   "source": []
  }
 ],
 "metadata": {
  "kernelspec": {
   "display_name": "Python [conda env:base] *",
   "language": "python",
   "name": "conda-base-py"
  },
  "language_info": {
   "codemirror_mode": {
    "name": "ipython",
    "version": 3
   },
   "file_extension": ".py",
   "mimetype": "text/x-python",
   "name": "python",
   "nbconvert_exporter": "python",
   "pygments_lexer": "ipython3",
   "version": "3.12.7"
  }
 },
 "nbformat": 4,
 "nbformat_minor": 5
}
